{
 "cells": [
  {
   "cell_type": "markdown",
   "id": "862563e7-8d20-4e7a-b85c-7c106e52264f",
   "metadata": {},
   "source": [
    "# Q1. Create a python program to sort the given list of tuples based on integer value using a lambda function."
   ]
  },
  {
   "cell_type": "code",
   "execution_count": 1,
   "id": "73001320-6bb7-4a50-9038-c89eed9676a0",
   "metadata": {},
   "outputs": [
    {
     "name": "stdout",
     "output_type": "stream",
     "text": [
      "original list of tuples\n",
      " [('Sachin Tendulkar', 34357), ('Ricky Ponting', 27483), ('Jack Kallis', 25534), ('Virat Kohli', 24936)]\n",
      "new list of tuples\n",
      " [('Virat Kohli', 24936), ('Jack Kallis', 25534), ('Ricky Ponting', 27483), ('Sachin Tendulkar', 34357)]\n"
     ]
    }
   ],
   "source": [
    "lst=[('Sachin Tendulkar', 34357), ('Ricky Ponting', 27483), ('Jack Kallis', 25534), ('Virat Kohli', 24936)]\n",
    "print(\"original list of tuples\\n\",lst)\n",
    "\n",
    "lst.sort(key=lambda x:x[1])\n",
    "print(\"new list of tuples\\n\",lst)"
   ]
  },
  {
   "cell_type": "markdown",
   "id": "8d88c146-b858-4a19-ad15-24b6333cc6c1",
   "metadata": {},
   "source": [
    "# Q2. Write a Python Program to find the squares of all the numbers in the given list of integers using lambda and map functions."
   ]
  },
  {
   "cell_type": "code",
   "execution_count": 2,
   "id": "ebacc8c4-a3bf-450e-98d3-fcb0200e8159",
   "metadata": {},
   "outputs": [
    {
     "name": "stdout",
     "output_type": "stream",
     "text": [
      "Original list of integers:\n",
      "[1, 2, 3, 4, 5, 6, 7, 8, 9, 10]\n",
      "Square of the numbers are\n",
      " [1, 4, 9, 16, 25, 36, 49, 64, 81, 100]\n"
     ]
    }
   ],
   "source": [
    "nums=[1, 2, 3, 4, 5, 6, 7, 8, 9, 10]\n",
    "print(\"Original list of integers:\")\n",
    "print(nums)\n",
    "res=list(map(lambda x:x**2,nums))\n",
    "print(\"Square of the numbers are\\n\",res)"
   ]
  },
  {
   "cell_type": "markdown",
   "id": "64cab19b-f9a3-4c29-9d64-e7736642f20e",
   "metadata": {},
   "source": [
    "# Q3. Write a python program to convert the given list of integers into a tuple of strings. Use map and lambda functions"
   ]
  },
  {
   "cell_type": "code",
   "execution_count": 3,
   "id": "4c6df73a-0f69-4d17-8e72-c078fd8b6d60",
   "metadata": {},
   "outputs": [
    {
     "name": "stdout",
     "output_type": "stream",
     "text": [
      "('1', '2', '3', '4', '5', '6', '7', '8', '9', '10')\n"
     ]
    }
   ],
   "source": [
    "numbers=[1, 2, 3, 4, 5, 6, 7, 8, 9, 10]\n",
    "result_tuple = tuple(map(lambda x:str(x),numbers))\n",
    "print(result_tuple)"
   ]
  },
  {
   "cell_type": "markdown",
   "id": "612679eb-0d6d-4b59-b495-3259fb2c34ed",
   "metadata": {},
   "source": [
    "# Q4 Write a python program using reduce function to compute the product of a list containing numbers from 1 to 25."
   ]
  },
  {
   "cell_type": "code",
   "execution_count": 8,
   "id": "d7e64209-d28e-46fc-a6d2-3fa6b85caded",
   "metadata": {},
   "outputs": [
    {
     "name": "stdout",
     "output_type": "stream",
     "text": [
      "15511210043330985984000000\n"
     ]
    }
   ],
   "source": [
    "from functools import reduce\n",
    "num=list(range(1,26))\n",
    "result=reduce(lambda x,y:x*y,num)\n",
    "print(result)"
   ]
  },
  {
   "cell_type": "markdown",
   "id": "30f0d185-a0d9-4a2e-ac4d-ffe9337c7aaf",
   "metadata": {},
   "source": [
    "# Q5. Write a python program to filter the numbers in a given list that are divisible by 2 and 3 using the filter function."
   ]
  },
  {
   "cell_type": "code",
   "execution_count": 2,
   "id": "b23bae9e-a425-4db8-b87a-8080cae4ec5e",
   "metadata": {},
   "outputs": [
    {
     "name": "stdout",
     "output_type": "stream",
     "text": [
      "[2, 6, 60, 90, 120, 46]\n",
      "[3, 6, 9, 27, 60, 90, 120]\n"
     ]
    }
   ],
   "source": [
    "inp=[2, 3, 6, 9, 27, 60, 90, 120, 55, 46]\n",
    "result_num=list(filter(lambda x:x%2 == 0,inp))\n",
    "result_num1=list(filter(lambda y:y%3 == 0,inp))\n",
    "print(result_num)\n",
    "print(result_num1)"
   ]
  },
  {
   "cell_type": "markdown",
   "id": "8f524f35-bdf3-406f-8c5c-deae5abff1e4",
   "metadata": {},
   "source": [
    "# Q6. Write a python program to find palindromes in the given list of strings using lambda and filter function."
   ]
  },
  {
   "cell_type": "code",
   "execution_count": 4,
   "id": "067e6afd-8c3a-4975-8fc1-b239251e0e28",
   "metadata": {},
   "outputs": [
    {
     "name": "stdout",
     "output_type": "stream",
     "text": [
      "['php', 'aba', 'radar', 'level']\n"
     ]
    }
   ],
   "source": [
    "mylist=['python', 'php', 'aba', 'radar', 'level']\n",
    "palindromes=list(filter(lambda x:x == x[::-1],mylist))\n",
    "print(palindromes)"
   ]
  }
 ],
 "metadata": {
  "kernelspec": {
   "display_name": "Python 3 (ipykernel)",
   "language": "python",
   "name": "python3"
  },
  "language_info": {
   "codemirror_mode": {
    "name": "ipython",
    "version": 3
   },
   "file_extension": ".py",
   "mimetype": "text/x-python",
   "name": "python",
   "nbconvert_exporter": "python",
   "pygments_lexer": "ipython3",
   "version": "3.10.8"
  }
 },
 "nbformat": 4,
 "nbformat_minor": 5
}
