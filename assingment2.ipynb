{
  "nbformat": 4,
  "nbformat_minor": 0,
  "metadata": {
    "colab": {
      "provenance": [],
      "authorship_tag": "ABX9TyOuKR6uNtPX+usVxNqxxte/",
      "include_colab_link": true
    },
    "kernelspec": {
      "name": "python3",
      "display_name": "Python 3"
    },
    "language_info": {
      "name": "python"
    }
  },
  "cells": [
    {
      "cell_type": "markdown",
      "metadata": {
        "id": "view-in-github",
        "colab_type": "text"
      },
      "source": [
        "<a href=\"https://colab.research.google.com/github/AyushP010/PW-Skills-assignments/blob/main/assingment2.ipynb\" target=\"_parent\"><img src=\"https://colab.research.google.com/assets/colab-badge.svg\" alt=\"Open In Colab\"/></a>"
      ]
    },
    {
      "cell_type": "markdown",
      "source": [
        "## Q1. How do you comment code in Python? What are the different types of comments?"
      ],
      "metadata": {
        "id": "GUxLnXPReCsP"
      }
    },
    {
      "cell_type": "markdown",
      "source": [
        "Comments in Python are of 2 types:\n",
        "\n",
        "Single line comments: these are denoted by #\n",
        "\n",
        "Multi line comments: these are denoted by \"\"\""
      ],
      "metadata": {
        "id": "5qsSJ4yJedsI"
      }
    },
    {
      "cell_type": "markdown",
      "source": [
        "## Q2. What are variables in Python? How do you declare and assign values to variables?"
      ],
      "metadata": {
        "id": "3CP6rLvPehWf"
      }
    },
    {
      "cell_type": "markdown",
      "source": [
        "Variables are used in Python to store data. A variable can store different types of data like integers,strings,floats etc.\n",
        "\n",
        "Example: # this is a single line comment\n",
        "\n",
        "\"\"\"\n",
        "this is a multi line comment\n",
        "\n",
        "\"\"\""
      ],
      "metadata": {
        "id": "OfzjC3Tnehro"
      }
    },
    {
      "cell_type": "markdown",
      "source": [
        "## Q3. How do you convert one data type to another in Python?"
      ],
      "metadata": {
        "id": "ZugytiyVeiKP"
      }
    },
    {
      "cell_type": "markdown",
      "source": [
        "Converting one data type into another is done by a process called typecasting."
      ],
      "metadata": {
        "id": "r3DNV3pKeiV_"
      }
    },
    {
      "cell_type": "markdown",
      "source": [
        "## Q4. How do you write and execute a Python script from the command line?"
      ],
      "metadata": {
        "id": "szk9kBXahuv_"
      }
    },
    {
      "cell_type": "markdown",
      "source": [
        "To run Python scripts with the python command, you need to open a command-line and type in the word python , or python3 if you have both versions, followed by the path to your script, just like this: $ python3 hello.py Hello World!"
      ],
      "metadata": {
        "id": "Ub4rgMW2huyO"
      }
    },
    {
      "cell_type": "markdown",
      "source": [
        "## Q5. Given a list my_list = [1, 2, 3, 4, 5], write the code to slice the list and obtain the sub-list [2, 3]."
      ],
      "metadata": {
        "id": "DZNxdQHJhu0_"
      }
    },
    {
      "cell_type": "code",
      "source": [
        "my_list = [1, 2, 3, 4, 5]\n",
        "my_list[1:3]"
      ],
      "metadata": {
        "colab": {
          "base_uri": "https://localhost:8080/"
        },
        "id": "H9NJWbCsiCAH",
        "outputId": "9f3d1de4-8a94-4f4c-81ed-6857fb2f5ef4"
      },
      "execution_count": 2,
      "outputs": [
        {
          "output_type": "execute_result",
          "data": {
            "text/plain": [
              "[2, 3]"
            ]
          },
          "metadata": {},
          "execution_count": 2
        }
      ]
    },
    {
      "cell_type": "markdown",
      "source": [
        "# Q6. What is a complex number in mathematics, and how is it represented in Python?"
      ],
      "metadata": {
        "id": "YY9YugvwiQ3f"
      }
    },
    {
      "cell_type": "markdown",
      "source": [
        "Complex number is denoted by the format a+ib where a,b are the real numbers and i is the imaginary number\n",
        "\n",
        " For example, 2+3i\n",
        "\n",
        " Written as x + yj in Python"
      ],
      "metadata": {
        "id": "IBPFreEZiUEe"
      }
    },
    {
      "cell_type": "markdown",
      "source": [
        "## Q7. What is the correct way to declare a variable named age and assign the value 25 to it?"
      ],
      "metadata": {
        "id": "PDgK2ICYjBhv"
      }
    },
    {
      "cell_type": "code",
      "source": [
        "age=25\n",
        "\n",
        "# here age is the variable and 25 is the value assigned."
      ],
      "metadata": {
        "id": "zvkOLTfHjCjv"
      },
      "execution_count": 3,
      "outputs": []
    },
    {
      "cell_type": "markdown",
      "source": [
        "## Q8. Declare a variable named price and assign the value 9.99 to it. What data type does this variable belong to?"
      ],
      "metadata": {
        "id": "BVWYwZogjWwG"
      }
    },
    {
      "cell_type": "code",
      "source": [
        "price=9.99\n",
        "type(price)"
      ],
      "metadata": {
        "colab": {
          "base_uri": "https://localhost:8080/"
        },
        "id": "hieCl8M-jS9O",
        "outputId": "adcb6c11-0fe0-4806-ee59-2f552c9da51b"
      },
      "execution_count": 4,
      "outputs": [
        {
          "output_type": "execute_result",
          "data": {
            "text/plain": [
              "float"
            ]
          },
          "metadata": {},
          "execution_count": 4
        }
      ]
    },
    {
      "cell_type": "markdown",
      "source": [
        "## Q9. Create a variable named name and assign your full name to it as a string. How would you print the value of this variable?"
      ],
      "metadata": {
        "id": "w_8AHYTLjlkv"
      }
    },
    {
      "cell_type": "code",
      "source": [
        "name=\"Ayush Pamnani\"\n",
        "print('my full name is:',name)"
      ],
      "metadata": {
        "colab": {
          "base_uri": "https://localhost:8080/"
        },
        "id": "4C0-SNXQjbjf",
        "outputId": "9ae195ed-2f1a-4902-dd16-c16d56a0dd8b"
      },
      "execution_count": 5,
      "outputs": [
        {
          "output_type": "stream",
          "name": "stdout",
          "text": [
            "my full name is: Ayush Pamnani\n"
          ]
        }
      ]
    },
    {
      "cell_type": "markdown",
      "source": [
        "## Q10. Given the string \"Hello, World!\", extract the substring \"World\"."
      ],
      "metadata": {
        "id": "sJFrvGm6j1lA"
      }
    },
    {
      "cell_type": "code",
      "source": [
        "str=\"Hello World\"\n",
        "str[5:11]"
      ],
      "metadata": {
        "colab": {
          "base_uri": "https://localhost:8080/",
          "height": 35
        },
        "id": "Sf13pLwLjx9m",
        "outputId": "c6c8ef9e-324f-4dc9-9cb7-292dc67d5e0a"
      },
      "execution_count": 7,
      "outputs": [
        {
          "output_type": "execute_result",
          "data": {
            "text/plain": [
              "' World'"
            ],
            "application/vnd.google.colaboratory.intrinsic+json": {
              "type": "string"
            }
          },
          "metadata": {},
          "execution_count": 7
        }
      ]
    },
    {
      "cell_type": "markdown",
      "source": [
        "## Q11. Create a variable named \"is_student\" and assign it a boolean value indicating whether you are currently a student or not."
      ],
      "metadata": {
        "id": "rkvYqCkQkFMf"
      }
    },
    {
      "cell_type": "code",
      "source": [
        "is_student=True\n",
        "print(is_student)"
      ],
      "metadata": {
        "colab": {
          "base_uri": "https://localhost:8080/"
        },
        "id": "0zlDFzp8j_su",
        "outputId": "fda1844f-b00f-4111-ba67-3af87a42eb63"
      },
      "execution_count": 8,
      "outputs": [
        {
          "output_type": "stream",
          "name": "stdout",
          "text": [
            "True\n"
          ]
        }
      ]
    }
  ]
}