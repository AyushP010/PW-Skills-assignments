{
  "nbformat": 4,
  "nbformat_minor": 0,
  "metadata": {
    "colab": {
      "provenance": [],
      "authorship_tag": "ABX9TyM2E5Sp9H04lTOF6vYPDJCi"
    },
    "kernelspec": {
      "name": "python3",
      "display_name": "Python 3"
    },
    "language_info": {
      "name": "python"
    }
  },
  "cells": [
    {
      "cell_type": "markdown",
      "source": [
        "Q1. Create a Pandas Series that contains the following data: 4, 8, 15, 16, 23, and 42. Then, print the series."
      ],
      "metadata": {
        "id": "WXtdTtH9gZAZ"
      }
    },
    {
      "cell_type": "code",
      "execution_count": 5,
      "metadata": {
        "colab": {
          "base_uri": "https://localhost:8080/"
        },
        "id": "C5-YmWMQgNwc",
        "outputId": "b28377e9-c4fd-445e-eca0-60fe02bb23f0"
      },
      "outputs": [
        {
          "output_type": "stream",
          "name": "stdout",
          "text": [
            "0     4\n",
            "1     8\n",
            "2    15\n",
            "3    16\n",
            "4    23\n",
            "5    42\n",
            "dtype: int64\n"
          ]
        }
      ],
      "source": [
        "import pandas as pd\n",
        "ser=[4,8,15,16,23,42]\n",
        "print(pd.Series(ser))"
      ]
    },
    {
      "cell_type": "markdown",
      "source": [
        "Q2.Create a variable of list type containing 10 elements in it, and apply pandas.Series function on the variable print it."
      ],
      "metadata": {
        "id": "dYsO9dCdg6MH"
      }
    },
    {
      "cell_type": "code",
      "source": [
        "import pandas as pd\n",
        "lst=[1,2,3,'abc','def','ghi','jkl',-3,-4,1.5]\n",
        "print(pd.Series(lst))"
      ],
      "metadata": {
        "colab": {
          "base_uri": "https://localhost:8080/"
        },
        "id": "-_nDa52Eg9xr",
        "outputId": "aed6470d-bd5f-4ea9-b6f8-e342cccf086a"
      },
      "execution_count": 4,
      "outputs": [
        {
          "output_type": "stream",
          "name": "stdout",
          "text": [
            "0      1\n",
            "1      2\n",
            "2      3\n",
            "3    abc\n",
            "4    def\n",
            "5    ghi\n",
            "6    jkl\n",
            "7     -3\n",
            "8     -4\n",
            "9    1.5\n",
            "dtype: object\n"
          ]
        }
      ]
    },
    {
      "cell_type": "markdown",
      "source": [
        "Q3.Create a Pandas DataFrame that contains the following data and print the Data Frame"
      ],
      "metadata": {
        "id": "DTv-KNvrhj9J"
      }
    },
    {
      "cell_type": "code",
      "source": [
        "import pandas as pd\n",
        "data=[['Alice',25,'Female'],\n",
        "      ['Bob',30,'Male'],\n",
        "      ['Claire',27,'Female']]\n",
        "df=pd.DataFrame(data,columns=['Name','Age','Gender'])\n",
        "print(df)"
      ],
      "metadata": {
        "colab": {
          "base_uri": "https://localhost:8080/"
        },
        "id": "_RQ3yXhHhkkd",
        "outputId": "d97e63f0-59b6-4847-9b45-1d2a84ee81bd"
      },
      "execution_count": 8,
      "outputs": [
        {
          "output_type": "stream",
          "name": "stdout",
          "text": [
            "     Name  Age  Gender\n",
            "0   Alice   25  Female\n",
            "1     Bob   30    Male\n",
            "2  Claire   27  Female\n"
          ]
        }
      ]
    },
    {
      "cell_type": "markdown",
      "source": [
        "Q4.What is ‘DataFrame’ in pandas and how is it different from pandas.series? Explain with an example."
      ],
      "metadata": {
        "id": "JurScd6ElAiw"
      }
    },
    {
      "cell_type": "markdown",
      "source": [
        "DataFrame:\n",
        "\n",
        "Structure: A two-dimensional, size-mutable, tabular data structure with labeled rows and columns. It's like a spreadsheet or SQL table.\n",
        "\n",
        "Data types: Can accommodate columns with different data types (e.g., numbers, strings, dates).\n",
        "\n",
        "Creation: Can be created from various sources like lists, dictionaries, NumPy arrays, CSV files, Excel files, etc.\n",
        "\n",
        "pandas.Series:\n",
        "\n",
        "Structure: A one-dimensional, size-immutable array capable of holding any data type. It's like a single column of a DataFrame.\n",
        "\n",
        "Data types: All elements within a Series must have the same data type.\n",
        "\n",
        "Creation: Can be created from lists, arrays, dictionaries, or scalar values.\n"
      ],
      "metadata": {
        "id": "r0yXq1DilAll"
      }
    },
    {
      "cell_type": "markdown",
      "source": [
        "Q5.What are some common functions you can use to manipulate data in a Pandas DataFrame? Can you give an example of when you might use one of these functions?"
      ],
      "metadata": {
        "id": "lB7-iiQcnz8z"
      }
    },
    {
      "cell_type": "markdown",
      "source": [
        "Here are some common functions used to manipulate data in a Pandas DataFrame, along with examples:\n",
        "\n",
        "1.Selecting and Viewing Data:\n",
        "\n",
        "head(): View the first few rows (e.g., df.head(5)).\n",
        "\n",
        "tail(): View the last few rows (e.g., df.tail(3)).\n",
        "\n",
        "shape: Get the dimensions of the DataFrame (rows, columns)."
      ],
      "metadata": {
        "id": "DQvN_k3Qn0Eb"
      }
    },
    {
      "cell_type": "markdown",
      "source": [
        "2.Sorting and Reshaping:\n",
        "\n",
        "sort_values(): Sort by one or more columns (e.g., df.sort_values('Age', ascending=False)).\n",
        "\n",
        "set_index(): Set a column as the DataFrame's index (e.g., df.set_index('Name')).\n",
        "\n",
        "pivot_table(): Create a pivot table to summarize data (e.g., df.pivot_table(index='City', values='Age', aggfunc='mean'))."
      ],
      "metadata": {
        "id": "QVaLzcbsn_9j"
      }
    },
    {
      "cell_type": "markdown",
      "source": [
        "3.Handling Missing Data:\n",
        "\n",
        "isnull(): Detect missing values (e.g., df.isnull().sum()).\n",
        "\n",
        "fillna(): Fill missing values with a specified value (e.g., df.fillna(0))."
      ],
      "metadata": {
        "id": "-WSywvbVoLU9"
      }
    },
    {
      "cell_type": "markdown",
      "source": [
        "Q6. Which of the following is mutable in nature Series, DataFrame, Panel?"
      ],
      "metadata": {
        "id": "LzJdZyBIoWTi"
      }
    },
    {
      "cell_type": "markdown",
      "source": [
        "The following data structures in pandas are mutable in nature:\n",
        "\n",
        "DataFrame: Both its values and size can be changed after creation. You can add or remove rows and columns, modify existing values, and even change the data types of columns.\n",
        "\n",
        "Panel: It's also mutable in terms of both values and size. However, it's less commonly used than DataFrames.\n",
        "\n",
        "Series, on the other hand, is only value-mutable, not size-mutable:\n",
        "\n",
        "You can modify the values within a Series, but you cannot change its length after it's created. This is because Series are built on top of NumPy arrays, which have fixed dimensions."
      ],
      "metadata": {
        "id": "wogWaKzQoWQx"
      }
    },
    {
      "cell_type": "markdown",
      "source": [
        "Q7.Create a DataFrame using multiple Series. Explain with an example."
      ],
      "metadata": {
        "id": "gRnzLEaIor4R"
      }
    },
    {
      "cell_type": "code",
      "source": [
        "import pandas as pd\n",
        "names=pd.Series(['Jim','Michaela','Andrea','Chris'])\n",
        "age = pd.Series([25,28,30,23])\n",
        "cities=pd.Series(['NY','Texas','Atlanta','LA'])\n",
        "df = pd.concat([names, age, cities], axis=1)\n",
        "df.columns=['names','age','cities']\n",
        "print(df)"
      ],
      "metadata": {
        "colab": {
          "base_uri": "https://localhost:8080/"
        },
        "id": "xxgCDw8ro1Iv",
        "outputId": "1be08217-3b95-4675-e16b-769cdae014c8"
      },
      "execution_count": 14,
      "outputs": [
        {
          "output_type": "stream",
          "name": "stdout",
          "text": [
            "      names  age   cities\n",
            "0       Jim   25       NY\n",
            "1  Michaela   28    Texas\n",
            "2    Andrea   30  Atlanta\n",
            "3     Chris   23       LA\n"
          ]
        }
      ]
    }
  ]
}