{
  "nbformat": 4,
  "nbformat_minor": 0,
  "metadata": {
    "colab": {
      "provenance": [],
      "authorship_tag": "ABX9TyML/Vvx773f0PESMu9zPyI2"
    },
    "kernelspec": {
      "name": "python3",
      "display_name": "Python 3"
    },
    "language_info": {
      "name": "python"
    }
  },
  "cells": [
    {
      "cell_type": "markdown",
      "source": [
        "## Q3 Write a function called ‘calculate_mean’ that takes a list of numbers as input and returns the mean (average) of the numbers. The function should calculate the mean using the sum of the numbers divided by the total count."
      ],
      "metadata": {
        "id": "QDduukip6ti5"
      }
    },
    {
      "cell_type": "code",
      "execution_count": 1,
      "metadata": {
        "colab": {
          "base_uri": "https://localhost:8080/"
        },
        "id": "zyhZDLyZ6tBC",
        "outputId": "13f55071-41bd-45fb-a15c-9c8f9c8a1a66"
      },
      "outputs": [
        {
          "output_type": "stream",
          "name": "stdout",
          "text": [
            "The mean of [10, 15, 20, 25, 30] is 20.00\n"
          ]
        }
      ],
      "source": [
        "def calculate_mean(data):\n",
        "    total_sum = sum(data)\n",
        "    count = len(data)\n",
        "    mean = total_sum / count\n",
        "    return mean\n",
        "\n",
        "data = [10, 15, 20, 25, 30]\n",
        "mean = calculate_mean(data)\n",
        "print(f\"The mean of {data} is {mean:.2f}\")"
      ]
    }
  ]
}