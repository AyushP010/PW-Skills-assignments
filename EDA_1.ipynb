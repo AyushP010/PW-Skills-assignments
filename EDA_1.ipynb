{
  "nbformat": 4,
  "nbformat_minor": 0,
  "metadata": {
    "colab": {
      "provenance": [],
      "authorship_tag": "ABX9TyNehsbALhgvmTqxfrHnKxM/"
    },
    "kernelspec": {
      "name": "python3",
      "display_name": "Python 3"
    },
    "language_info": {
      "name": "python"
    }
  },
  "cells": [
    {
      "cell_type": "markdown",
      "source": [
        "Q1. What are the key features of the wine quality data set? Discuss the importance of each feature in predicting the quality of wine."
      ],
      "metadata": {
        "id": "-kMkvY1q0i_L"
      }
    },
    {
      "cell_type": "markdown",
      "source": [
        "The key features of the wine quality dataset are:\n",
        "\n",
        "1.Alcohol\n",
        "\n",
        "2.Color intensity\n",
        "\n",
        "3.Class\n",
        "\n",
        "the Alcohol feature gives an idea about the % of alcohol content in wine according to the brand.\n",
        "\n",
        "Color intensity may give info about how much darker or lighter the wine may look.\n",
        "\n",
        "Class would be red wine or white wine."
      ],
      "metadata": {
        "id": "NKlwj8Hp1D6B"
      }
    },
    {
      "cell_type": "markdown",
      "source": [
        "Q2. How did you handle missing data in the wine quality data set during the feature engineering process?\n",
        "Discuss the advantages and disadvantages of different imputation techniques."
      ],
      "metadata": {
        "id": "2CuzE1tNVEvx"
      }
    },
    {
      "cell_type": "markdown",
      "source": [
        "We can handle missing data in the wine quality dataset by applying feature engineering.\n",
        "\n",
        "In feature engineering there are 3 types of imputation techniques:\n",
        "\n",
        "1.Mean Imputation\n",
        "\n",
        "2.Median Imputation\n",
        "\n",
        "3.Mode Imputation\n",
        "\n",
        "Advantages:\n",
        "\n",
        "Easy to use\n",
        "\n",
        "Disadvantages:\n",
        "\n",
        "Does not consider relationship between features."
      ],
      "metadata": {
        "id": "PjawAPT_VFAv"
      }
    },
    {
      "cell_type": "markdown",
      "source": [
        "Q3. What are the key factors that affect students' performance in exams? How would you go about analyzing these factors using statistical techniques?"
      ],
      "metadata": {
        "id": "b8iV3bIhfb20"
      }
    },
    {
      "cell_type": "markdown",
      "source": [
        "The key factors that affect student's performance in exams are:\n",
        "\n",
        "sleep: It is very important for a student to get a good night sleep before the big day.\n",
        "\n",
        "lunch: a heavy or light lunch can be a good indicator how the student might perform in the exam.\n",
        "\n",
        "study preparation: How much preparation a student has done before the exam could be one of the determining factors on how a student might perform in the exam.\n",
        "\n",
        "test_preparation_course: can check if the student has taken a test preparation course to track his progress before the exam.\n",
        "\n",
        "we can use describe method in Python which can tell us the standard deviation range and the min and max values.\n",
        "\n",
        "we can also check the 25%,50% and 75% values."
      ],
      "metadata": {
        "id": "qs947PrafcRI"
      }
    },
    {
      "cell_type": "markdown",
      "source": [
        " Q4. Describe the process of feature engineering in the context of the student performance data set. How did you select and transform the variables for your model?\n"
      ],
      "metadata": {
        "id": "rDoeaa4N9OoF"
      }
    },
    {
      "cell_type": "markdown",
      "source": [
        "1.Data Exploration and Understanding: in terms of the student performance dataset we have to understand how basic things like test preparation,lunch etc can impact a student's performance in an exam.\n",
        "\n",
        "2.Data Cleaning and Preprocessing:some features might not be very useful to determine the student's performance and need to be removed.\n",
        "\n",
        "3.Feature Selection:Using feature selection i selected the most needed features for the model.\n",
        "\n",
        "4.Feature Creation:\n",
        "\n",
        "This is where You leverage your understanding of the data and problem to create new features that capture hidden patterns or interactions.\n",
        "\n",
        "Feature engineering is rarely a one-shot process. It's iterative.\n",
        "\n",
        "You continuously analyze results, refine your features, and try new approaches based on feedback from validation and model performance."
      ],
      "metadata": {
        "id": "XotGj2bz9O4_"
      }
    },
    {
      "cell_type": "markdown",
      "source": [
        "Q5. Load the wine quality data set and perform exploratory data analysis (EDA) to identify the distribution of each feature.\n",
        "Which feature(s) exhibit non-normality, and what transformations could be applied to these features to improve normality?"
      ],
      "metadata": {
        "id": "3JLSG1r5ifeO"
      }
    },
    {
      "cell_type": "code",
      "source": [
        "import pandas as pd\n",
        "import matplotlib.pyplot as plt\n",
        "import seaborn as sns\n",
        "\n",
        "# Load the dataset (specify the correct file path)\n",
        "df = pd.read_csv(\"winequality-red.csv\")"
      ],
      "metadata": {
        "id": "5ux6FcUupBbO"
      },
      "execution_count": null,
      "outputs": []
    },
    {
      "cell_type": "code",
      "source": [
        "print(df.isnull().sum())"
      ],
      "metadata": {
        "id": "i-8Mnnl2pCz6"
      },
      "execution_count": null,
      "outputs": []
    },
    {
      "cell_type": "code",
      "source": [
        "print(df.dtypes)"
      ],
      "metadata": {
        "id": "el3uAxippNn2"
      },
      "execution_count": null,
      "outputs": []
    },
    {
      "cell_type": "code",
      "source": [
        "sns.histplot(df[\"fixed acidity\"])  # Example for a numerical feature\n",
        "sns.countplot(x=\"quality\", data=df)  # Example for the categorical target variable"
      ],
      "metadata": {
        "id": "62jjdqm-pRe2"
      },
      "execution_count": null,
      "outputs": []
    },
    {
      "cell_type": "code",
      "source": [
        "sns.scatterplot(x=\"alcohol\", y=\"quality\", data=df)"
      ],
      "metadata": {
        "id": "MGNx03Zcp9Xt"
      },
      "execution_count": null,
      "outputs": []
    },
    {
      "cell_type": "markdown",
      "source": [
        "Non-normal features:\n",
        "\n",
        "Volatile acidity: Often skewed right due to presence of outliers and low values.\n",
        "\n",
        "Residual sugar: Can be skewed right or left depending on the distribution, particularly for white wines with higher sugar content.\n",
        "\n",
        "Transformations for improvement:\n",
        "\n",
        "Logarithmic transformation: Effective for right-skewed features like volatile acidity, chlorides, free/total sulfur dioxide. Apply log(x + 1) to avoid issues with zero values.\n",
        "\n",
        "Square root transformation: Can help for moderately skewed features like density or residual sugar. Use sqrt(x) for positive values."
      ],
      "metadata": {
        "id": "rPHfXQ10rUTE"
      }
    },
    {
      "cell_type": "markdown",
      "source": [
        "Q6. Using the wine quality data set, perform principal component analysis (PCA) to reduce the number of features.\n",
        "What is the minimum number of principal components required to explain 90% of the variance in the data?"
      ],
      "metadata": {
        "id": "RCvaLlj8r9kL"
      }
    },
    {
      "cell_type": "code",
      "source": [
        "import pandas as pd\n",
        "from sklearn.preprocessing import StandardScaler\n",
        "from sklearn.decomposition import PCA\n",
        "import matplotlib.pyplot as plt\n",
        "\n",
        "# Load the dataset (specify the correct file path)\n",
        "df = pd.read_csv(\"winequality-red.csv\")  # Or \"winequality-white.csv\""
      ],
      "metadata": {
        "id": "-fTvM58dr98k"
      },
      "execution_count": null,
      "outputs": []
    },
    {
      "cell_type": "code",
      "source": [
        "scaler = StandardScaler()\n",
        "scaled_features = scaler.fit_transform(df[[\"fixed acidity\", \"volatile acidity\", \"citric acid\", \"residual sugar\", \"chlorides\", \"free sulfur dioxide\", \"total sulfur dioxide\", \"density\", \"pH\", \"sulphates\", \"alcohol\"]])"
      ],
      "metadata": {
        "id": "7gLRDfMjr_YY"
      },
      "execution_count": null,
      "outputs": []
    },
    {
      "cell_type": "code",
      "source": [
        "pca = PCA(n_components=2)  # Choose the number of components (e.g., 2 for visualization)\n",
        "pca_components = pca.fit_transform(scaled_features)\n",
        "print(pca.explained_variance_ratio_)"
      ],
      "metadata": {
        "id": "xLlWjC64sDVB"
      },
      "execution_count": null,
      "outputs": []
    },
    {
      "cell_type": "code",
      "source": [
        "pca_df = pd.DataFrame(pca.components_, columns=df.columns[:-1])\n",
        "sns.heatmap(pca_df.corr())"
      ],
      "metadata": {
        "id": "YJYWuQ6QsaCJ"
      },
      "execution_count": null,
      "outputs": []
    },
    {
      "cell_type": "code",
      "source": [
        "explained_variance = np.cumsum(pca_fit.explained_variance_ratio_)\n",
        "idx = np.argmax(explained_variance >= 0.9)\n",
        "print(f\"Minimum components for 90% variance: {idx + 1}\")"
      ],
      "metadata": {
        "id": "ofPpzNsUs_9l"
      },
      "execution_count": null,
      "outputs": []
    }
  ]
}