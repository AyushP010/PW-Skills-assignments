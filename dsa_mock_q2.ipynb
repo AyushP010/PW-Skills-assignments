{
  "nbformat": 4,
  "nbformat_minor": 0,
  "metadata": {
    "colab": {
      "provenance": [],
      "authorship_tag": "ABX9TyOf9y5OVoexBGcJoPVcx3hA",
      "include_colab_link": true
    },
    "kernelspec": {
      "name": "python3",
      "display_name": "Python 3"
    },
    "language_info": {
      "name": "python"
    }
  },
  "cells": [
    {
      "cell_type": "markdown",
      "metadata": {
        "id": "view-in-github",
        "colab_type": "text"
      },
      "source": [
        "<a href=\"https://colab.research.google.com/github/AyushP010/PW-Skills-assignments/blob/main/dsa_mock_q2.ipynb\" target=\"_parent\"><img src=\"https://colab.research.google.com/assets/colab-badge.svg\" alt=\"Open In Colab\"/></a>"
      ]
    },
    {
      "cell_type": "code",
      "execution_count": 28,
      "metadata": {
        "id": "VeN-446a5A9P"
      },
      "outputs": [],
      "source": [
        "from collections import Counter"
      ]
    },
    {
      "cell_type": "code",
      "source": [
        "def firstUniqueChar(s):\n",
        "    from collections import Counter\n",
        "    count = Counter(s)\n",
        "    for i , j in enumerate(s):\n",
        "        if count[j] == 1:\n",
        "            return i\n",
        "    else:\n",
        "        return -1"
      ],
      "metadata": {
        "id": "G19XyljDFNkJ"
      },
      "execution_count": 32,
      "outputs": []
    },
    {
      "cell_type": "code",
      "source": [
        "print(firstUniqueChar(\"leetcode\"))"
      ],
      "metadata": {
        "colab": {
          "base_uri": "https://localhost:8080/"
        },
        "id": "J-VTf01mFpTt",
        "outputId": "df88e870-adfe-40b7-ed12-d0fc1277d124"
      },
      "execution_count": 33,
      "outputs": [
        {
          "output_type": "stream",
          "name": "stdout",
          "text": [
            "0\n"
          ]
        }
      ]
    },
    {
      "cell_type": "code",
      "source": [
        "print(firstUniqueChar(\"loveleetcode\"))"
      ],
      "metadata": {
        "colab": {
          "base_uri": "https://localhost:8080/"
        },
        "id": "Zi7bFgEUFvZg",
        "outputId": "86c56122-6756-4ef8-ad57-dcb7bb7b130d"
      },
      "execution_count": 34,
      "outputs": [
        {
          "output_type": "stream",
          "name": "stdout",
          "text": [
            "2\n"
          ]
        }
      ]
    },
    {
      "cell_type": "code",
      "source": [
        "print(firstUniqueChar(\"aabb\"))"
      ],
      "metadata": {
        "colab": {
          "base_uri": "https://localhost:8080/"
        },
        "id": "5VpDtHRQFyjJ",
        "outputId": "6c1ec454-85ce-4f23-8724-015843c57403"
      },
      "execution_count": 35,
      "outputs": [
        {
          "output_type": "stream",
          "name": "stdout",
          "text": [
            "-1\n"
          ]
        }
      ]
    },
    {
      "cell_type": "code",
      "source": [],
      "metadata": {
        "id": "0YKAmIswF1DV"
      },
      "execution_count": null,
      "outputs": []
    }
  ]
}