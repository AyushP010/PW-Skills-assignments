{
  "nbformat": 4,
  "nbformat_minor": 0,
  "metadata": {
    "colab": {
      "provenance": [],
      "authorship_tag": "ABX9TyPA5bxTNhVubHc/GeGbIJJJ"
    },
    "kernelspec": {
      "name": "python3",
      "display_name": "Python 3"
    },
    "language_info": {
      "name": "python"
    }
  },
  "cells": [
    {
      "cell_type": "markdown",
      "source": [
        "# Q1. Explain Class and Object with respect to Object-Oriented Programming. Give a suitable example."
      ],
      "metadata": {
        "id": "roERdhpOzFYe"
      }
    },
    {
      "cell_type": "markdown",
      "source": [
        "Class is a blueprint which defines some behaviours.\n",
        "\n",
        "Object is an instance of the class which is created.\n",
        "\n",
        "class pwskills:\n",
        "\n",
        "      def __init__(self,name,price):\n",
        "\n",
        "          self.name=name\n",
        "          \n",
        "          self.price=price\n",
        "\n",
        "pw=pwskills('OOPS',3500)"
      ],
      "metadata": {
        "id": "XqhaDtMNzJDW"
      }
    },
    {
      "cell_type": "markdown",
      "source": [
        "## Q2. Name the four pillars of OOPs."
      ],
      "metadata": {
        "id": "DMiHCMJJzJGG"
      }
    },
    {
      "cell_type": "markdown",
      "source": [
        "The 4 pillars of OOPs are\n",
        "\n",
        "1.   Abstraction\n",
        "2.   Encapsulation\n",
        "3.   Inheritance\n",
        "4.   Polymorphism\n",
        "\n"
      ],
      "metadata": {
        "id": "9um2gb_czJI8"
      }
    },
    {
      "cell_type": "markdown",
      "source": [
        "## Q3. Explain why the __init__() function is used. Give a suitable example."
      ],
      "metadata": {
        "id": "41DfRvA2zJMP"
      }
    },
    {
      "cell_type": "markdown",
      "source": [
        "__init__ function is used as a constructor. the parameter used in init function is self.\n",
        "\n",
        "def __init__(self,a,b):\n",
        "\n",
        "    self.a=a\n",
        "    self.b=b"
      ],
      "metadata": {
        "id": "7DT9spyS12_3"
      }
    },
    {
      "cell_type": "markdown",
      "source": [
        "# Q4. Why self is used in OOPs?"
      ],
      "metadata": {
        "id": "OTVu6_q02VyS"
      }
    },
    {
      "cell_type": "markdown",
      "source": [
        "The self variable is used to represent the instance of the class which is often used in object-oriented programming. It works as a reference to the object."
      ],
      "metadata": {
        "id": "TBSHuQti2Yex"
      }
    },
    {
      "cell_type": "markdown",
      "source": [
        "## Q5. What is inheritance? Give an example for each type of inheritance."
      ],
      "metadata": {
        "id": "4O-6t30r2h5R"
      }
    },
    {
      "cell_type": "markdown",
      "source": [
        "There's multiple types of inheritance\n",
        "\n",
        "\n",
        "1.   Single Inheritance\n",
        "2.   Multiple Inheritance\n",
        "3.   Multilevel Inheritance  \n",
        "4.   Hierarchial Inheritance\n",
        "\n"
      ],
      "metadata": {
        "id": "9TffWz2F3BU6"
      }
    },
    {
      "cell_type": "markdown",
      "source": [
        "class Person:\n",
        "\n",
        "  def __init__(self, fname, lname):\n",
        "\n",
        "    self.firstname = fname\n",
        "\n",
        "    self.lastname = lname\n",
        "\n",
        "  def printname(self):\n",
        "\n",
        "    print(self.firstname, self.lastname)\n",
        "\n",
        "#Use the Person class to create an object, and then execute the printname method:\n",
        "\n",
        "x = Person(\"Ram\", \"Verma\")\n",
        "\n",
        "x.printname()"
      ],
      "metadata": {
        "id": "NckYyCWs48VB"
      }
    },
    {
      "cell_type": "code",
      "source": [
        "class Base(object):\n",
        "\n",
        "    # Constructor\n",
        "    def __init__(self, name):\n",
        "        self.name = name\n",
        "\n",
        "    # To get name\n",
        "    def getName(self):\n",
        "        return self.name\n",
        "\n",
        "\n",
        "# Inherited or Sub class (Note Person in bracket)\n",
        "class Child(Base):\n",
        "\n",
        "    # Constructor\n",
        "    def __init__(self, name, age):\n",
        "        Base.__init__(self, name)\n",
        "        self.age = age\n",
        "\n",
        "    # To get name\n",
        "    def Age(self):\n",
        "        return self.age\n",
        "\n",
        "# Inherited or Sub class (Note Person in bracket)\n",
        "\n",
        "\n",
        "class GrandChild(Child):\n",
        "\n",
        "    # Constructor\n",
        "    def __init__(self, name, age, address):\n",
        "        Child.__init__(self, name, age)\n",
        "        self.address = address\n",
        "\n",
        "    # To get address\n",
        "    def getAddress(self):\n",
        "        return self.address\n",
        "\n",
        "\n",
        "# Driver code\n",
        "g = GrandChild(\"Shyam\", 23, \"Mumbai\")\n",
        "print(g.getName(), g.Age(), g.getAddress())"
      ],
      "metadata": {
        "colab": {
          "base_uri": "https://localhost:8080/"
        },
        "id": "fZswg6DgE5pa",
        "outputId": "f178e3b4-3f78-4dc1-f8e7-0a7fb6a36bbd"
      },
      "execution_count": 2,
      "outputs": [
        {
          "output_type": "stream",
          "name": "stdout",
          "text": [
            "Geek1 23 Noida\n"
          ]
        }
      ]
    },
    {
      "cell_type": "code",
      "source": [],
      "metadata": {
        "id": "x4JsMu4aFaIO"
      },
      "execution_count": null,
      "outputs": []
    }
  ]
}