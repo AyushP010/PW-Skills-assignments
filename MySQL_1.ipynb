{
  "nbformat": 4,
  "nbformat_minor": 0,
  "metadata": {
    "colab": {
      "provenance": [],
      "authorship_tag": "ABX9TyNIL72g61Z1QdLtWfBZjUOn"
    },
    "kernelspec": {
      "name": "python3",
      "display_name": "Python 3"
    },
    "language_info": {
      "name": "python"
    }
  },
  "cells": [
    {
      "cell_type": "markdown",
      "source": [
        "Q1. What is a database? Differentiate between SQL and NoSQL databases."
      ],
      "metadata": {
        "id": "RXmea5lyBI0z"
      }
    },
    {
      "cell_type": "markdown",
      "source": [
        "A database is used to store data in a tabular format. SQL is one of the widely used databases all over the world.SQL uses queries to fetch data.\n",
        "It is widely used with Python as a backend database.\n",
        "\n",
        "NOSQL database is also a type of database where queries are not required to fetch data.\n",
        "\n",
        "An example of a NOSQL database is MongoDB.\n",
        "\n",
        "SQL: Requires a predefined schema (structure) for each table, defining data types and relationships. This ensures data consistency but can be inflexible.\n",
        "\n",
        "NoSQL: Often has dynamic schemas, allowing data to be added with different structures. This flexibility can be advantageous for handling evolving data, but can also make it less reliable for complex queries.\n",
        "\n",
        "SQL: Typically scales vertically, requiring upgrading hardware to handle increased data volume. This can be expensive and complex.\n",
        "\n",
        "NoSQL: Often scales horizontally by adding more servers, making it more efficient and cost-effective for handling large data volumes."
      ],
      "metadata": {
        "id": "stBl4RELBLip"
      }
    },
    {
      "cell_type": "markdown",
      "source": [
        "Q2. What is DDL? Explain why CREATE, DROP, ALTER, and TRUNCATE are used with an example."
      ],
      "metadata": {
        "id": "U4kM0VzjS8Zi"
      }
    },
    {
      "cell_type": "markdown",
      "source": [
        "DDL stands for Data Definition Language.\n",
        "\n",
        "CREATE: used to create database objects like tables,views in SQL.\n",
        "e.g: CREATE TABLE Student;\n",
        "\n",
        "DROP: used to drop the current database object along with the data.\n",
        "e.g: DROP TABLE Student;\n",
        "\n",
        "ALTER: used to alter the current object along with the data.\n",
        "e.g: ALTER TABLE Student;\n",
        "\n",
        "TRUNCATE: used to delete all the data in a table.\n",
        "e.g: TRUNCATE TABLE Student;"
      ],
      "metadata": {
        "id": "vUfJfo29Z_xF"
      }
    },
    {
      "cell_type": "markdown",
      "source": [
        "Q3. What is DML? Explain INSERT, UPDATE, and DELETE with an example."
      ],
      "metadata": {
        "id": "EbV3jr3Eu0sQ"
      }
    },
    {
      "cell_type": "markdown",
      "source": [
        "DML stands for Data Manipulation Language. we can manipulate the given data using 3 major commands:\n",
        "INSERT,UPDATE AND DELETE.\n",
        "\n",
        "INSERT: used to insert rows in the table.\n",
        "e.g: INSERT into Student ('col1','col2') VALUES('val1,'val2')\n",
        "\n",
        "UPDATE: used to update the rows in a table.\n",
        "e.g: UPDATE Student set col1=val1,col2=val2 WHERE condition;\n",
        "\n",
        "DELETE: used to delete rows in a table.\n",
        "e.g: DELETE FROM Student WHERE condition;"
      ],
      "metadata": {
        "id": "g6QB6s_Mu0HV"
      }
    },
    {
      "cell_type": "markdown",
      "source": [
        "Q4. What is DQL? Explain SELECT with an example."
      ],
      "metadata": {
        "id": "lEyBzPVrhDjq"
      }
    },
    {
      "cell_type": "markdown",
      "source": [
        "DQL (Data Query Language) is a subset of SQL that focuses specifically on retrieving and working with data within a database.\n",
        "\n",
        "It's used to query and extract information from existing tables.\n",
        "\n",
        "SELECT is the primary DQL command, and it's used to:\n",
        "\n",
        "Retrieve specific data from one or more tables.\n",
        "\n",
        "Filter and sort the results based on various conditions."
      ],
      "metadata": {
        "id": "nSU4THq7hDfX"
      }
    },
    {
      "cell_type": "markdown",
      "source": [
        "Q5. Explain Primary Key and Foreign Key."
      ],
      "metadata": {
        "id": "tcc5ekMYpFEK"
      }
    },
    {
      "cell_type": "markdown",
      "source": [
        "Primary key is a unique value in SQL which is not null and does not allow for data duplication.\n",
        "\n",
        "Foriegn key can be used with primary key to link tables in SQL.\n",
        "\n",
        "Establishes Relationships: It creates connections between related data in different tables, enabling JOIN operations to retrieve related information."
      ],
      "metadata": {
        "id": "quuLRr3kpFIi"
      }
    },
    {
      "cell_type": "markdown",
      "source": [
        "Q6. Write a python code to connect MySQL to python. Explain the cursor() and execute() method."
      ],
      "metadata": {
        "id": "gmIwFF2yDxLJ"
      }
    },
    {
      "cell_type": "code",
      "source": [
        "import mysql.connector\n",
        "newdb=mysql.connector.connect(\n",
        "    host='your_hostname',\n",
        "    user='your_usernmame',\n",
        "    password='your_password',\n",
        "    database='your_databasename'\n",
        ")\n",
        "\n",
        "mycursor = mydb.cursor() # acts as a pointer to the database\n",
        "\n",
        "mycursor.execute(\"SELECT * FROM your_table_name\")\n",
        "#sends SQL statement to db server for execution\n",
        "\n",
        "mydb.close()"
      ],
      "metadata": {
        "id": "o3csVV0PD17G"
      },
      "execution_count": null,
      "outputs": []
    },
    {
      "cell_type": "markdown",
      "source": [
        "Q7.Give the order of execution of SQL clauses in an SQL query."
      ],
      "metadata": {
        "id": "wPqOhb-dD30M"
      }
    },
    {
      "cell_type": "markdown",
      "source": [
        "The order of execution of SQL queries is:\n",
        "\n",
        "1.FROM\n",
        "\n",
        "2.WHERE\n",
        "\n",
        "3.GROUP BY\n",
        "\n",
        "4.HAVING\n",
        "\n",
        "Execution order can be slightly different in various database systems.\n"
      ],
      "metadata": {
        "id": "3KhlDUsHFVYp"
      }
    }
  ]
}