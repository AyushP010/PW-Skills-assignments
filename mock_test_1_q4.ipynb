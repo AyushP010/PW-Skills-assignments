{
  "nbformat": 4,
  "nbformat_minor": 0,
  "metadata": {
    "colab": {
      "provenance": [],
      "authorship_tag": "ABX9TyM0FchVnzEYZ85T4YP9Qdb4"
    },
    "kernelspec": {
      "name": "python3",
      "display_name": "Python 3"
    },
    "language_info": {
      "name": "python"
    }
  },
  "cells": [
    {
      "cell_type": "markdown",
      "source": [
        "# Q4 Write a function called ‘perform_hypothesis_test’ that takes two lists of numbers as input, representing two samples. The function should perform a two-sample t-test and return the p-value. Use the ‘scipy.stats’ module in Python to calculate the t-test and p-value."
      ],
      "metadata": {
        "id": "qk5EB1VF_0av"
      }
    },
    {
      "cell_type": "code",
      "execution_count": 1,
      "metadata": {
        "id": "SWn9DC-k7qha"
      },
      "outputs": [],
      "source": [
        "from scipy import stats\n",
        "\n",
        "def perform_hypothesis_test(sample1, sample2):\n",
        "    t_statistic, p_value = stats.ttest_ind(sample1, sample2)\n",
        "    return p_value"
      ]
    },
    {
      "cell_type": "code",
      "source": [
        "s1 = [5, 10, 15, 20, 252]\n",
        "s2 = [10, 20, 30, 40, 50]\n",
        "sample1 = [1, 2, 3, 4, 5]\n",
        "sample2 = [6, 7, 8, 9, 10]\n",
        "\n",
        "t_statistic, p_value = stats.ttest_ind(sample1, sample2)\n",
        "\n",
        "print(f\"The t-statistic is {t_statistic:.4f} and the p-value is {p_value:.4f}\")"
      ],
      "metadata": {
        "colab": {
          "base_uri": "https://localhost:8080/"
        },
        "id": "d4SVYydN74mI",
        "outputId": "5f8ee4f6-ea34-4d85-9f69-a7c808a70fc6"
      },
      "execution_count": 5,
      "outputs": [
        {
          "output_type": "stream",
          "name": "stdout",
          "text": [
            "The t-statistic is -5.0000 and the p-value is 0.0011\n"
          ]
        }
      ]
    }
  ]
}