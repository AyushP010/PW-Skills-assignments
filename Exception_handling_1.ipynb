{
  "nbformat": 4,
  "nbformat_minor": 0,
  "metadata": {
    "colab": {
      "provenance": [],
      "authorship_tag": "ABX9TyPz/cTVYdR6pnDTDjwBKAlb"
    },
    "kernelspec": {
      "name": "python3",
      "display_name": "Python 3"
    },
    "language_info": {
      "name": "python"
    }
  },
  "cells": [
    {
      "cell_type": "markdown",
      "source": [
        "Q1. What is an Exception in python? Write the difference between Exceptions\n",
        "and Syntax errors"
      ],
      "metadata": {
        "id": "55ugD_uMc0LW"
      }
    },
    {
      "cell_type": "markdown",
      "source": [
        "In Python, an exception is an event that occurs during the execution of a program that disrupts the normal flow of instructions.\n",
        "\n",
        "Exceptions can occur due to various reasons, such as runtime errors, input/output errors, division by zero, or accessing a variable that doesn't exist.\n",
        "\n",
        "Here are the key differences between exceptions and syntax errors:\n",
        "\n",
        "Detection: Syntax errors are detected by the Python interpreter during the parsing phase, whereas exceptions are detected at runtime when a specific condition or error occurs.\n",
        "\n",
        "Timing: Syntax errors prevent the program from running at all, while exceptions can occur during the execution of the program.\n",
        "\n",
        "Handling: Syntax errors require fixing the code to adhere to the correct syntax before the program can be executed. Exceptions, on the other hand, can be caught and handled using try-except blocks, allowing you to gracefully respond to exceptional situations and continue program execution.\n",
        "\n",
        "Cause: Syntax errors occur due to violations of the language's syntax rules. Exceptions, on the other hand, occur due to specific conditions or errors that arise during the execution of the program, such as invalid inputs, file not found, or division by zero."
      ],
      "metadata": {
        "id": "a6as-Vhad-n_"
      }
    },
    {
      "cell_type": "markdown",
      "source": [
        "Q2. What happens when an exception is not handled? explain with an example\n",
        "\n"
      ],
      "metadata": {
        "id": "6ktBX9k0eeax"
      }
    },
    {
      "cell_type": "markdown",
      "source": [
        "When an exception is not handled, it results in an error called an unhandled exception. When an unhandled exception occurs, the normal flow of the program is interrupted, and an error message is displayed, providing information about the exception and its traceback. The program terminates, and any remaining code after the point where the exception occurred is not executed."
      ],
      "metadata": {
        "id": "Uc3eApNofPcd"
      }
    },
    {
      "cell_type": "code",
      "source": [
        "def divnum(a,b):\n",
        "  res = a / b\n",
        "  return res\n",
        "res=divnum(10,0)\n",
        "print(\"Result:\",res)\n",
        "print(\"Continue execution\")"
      ],
      "metadata": {
        "colab": {
          "base_uri": "https://localhost:8080/",
          "height": 380
        },
        "id": "zhP10nuSezAE",
        "outputId": "fb67012e-25f7-4815-f77a-fe5155faa1ff"
      },
      "execution_count": 3,
      "outputs": [
        {
          "output_type": "error",
          "ename": "ZeroDivisionError",
          "evalue": "ignored",
          "traceback": [
            "\u001b[0;31m---------------------------------------------------------------------------\u001b[0m",
            "\u001b[0;31mZeroDivisionError\u001b[0m                         Traceback (most recent call last)",
            "\u001b[0;32m<ipython-input-3-6cacbf3104c0>\u001b[0m in \u001b[0;36m<cell line: 4>\u001b[0;34m()\u001b[0m\n\u001b[1;32m      2\u001b[0m   \u001b[0mres\u001b[0m \u001b[0;34m=\u001b[0m \u001b[0ma\u001b[0m \u001b[0;34m/\u001b[0m \u001b[0mb\u001b[0m\u001b[0;34m\u001b[0m\u001b[0;34m\u001b[0m\u001b[0m\n\u001b[1;32m      3\u001b[0m   \u001b[0;32mreturn\u001b[0m \u001b[0mres\u001b[0m\u001b[0;34m\u001b[0m\u001b[0;34m\u001b[0m\u001b[0m\n\u001b[0;32m----> 4\u001b[0;31m \u001b[0mres\u001b[0m\u001b[0;34m=\u001b[0m\u001b[0mdivnum\u001b[0m\u001b[0;34m(\u001b[0m\u001b[0;36m10\u001b[0m\u001b[0;34m,\u001b[0m\u001b[0;36m0\u001b[0m\u001b[0;34m)\u001b[0m\u001b[0;34m\u001b[0m\u001b[0;34m\u001b[0m\u001b[0m\n\u001b[0m\u001b[1;32m      5\u001b[0m \u001b[0mprint\u001b[0m\u001b[0;34m(\u001b[0m\u001b[0;34m\"Result:\"\u001b[0m\u001b[0;34m,\u001b[0m\u001b[0mres\u001b[0m\u001b[0;34m)\u001b[0m\u001b[0;34m\u001b[0m\u001b[0;34m\u001b[0m\u001b[0m\n\u001b[1;32m      6\u001b[0m \u001b[0mprint\u001b[0m\u001b[0;34m(\u001b[0m\u001b[0;34m\"Continue execution\"\u001b[0m\u001b[0;34m)\u001b[0m\u001b[0;34m\u001b[0m\u001b[0;34m\u001b[0m\u001b[0m\n",
            "\u001b[0;32m<ipython-input-3-6cacbf3104c0>\u001b[0m in \u001b[0;36mdivnum\u001b[0;34m(a, b)\u001b[0m\n\u001b[1;32m      1\u001b[0m \u001b[0;32mdef\u001b[0m \u001b[0mdivnum\u001b[0m\u001b[0;34m(\u001b[0m\u001b[0ma\u001b[0m\u001b[0;34m,\u001b[0m\u001b[0mb\u001b[0m\u001b[0;34m)\u001b[0m\u001b[0;34m:\u001b[0m\u001b[0;34m\u001b[0m\u001b[0;34m\u001b[0m\u001b[0m\n\u001b[0;32m----> 2\u001b[0;31m   \u001b[0mres\u001b[0m \u001b[0;34m=\u001b[0m \u001b[0ma\u001b[0m \u001b[0;34m/\u001b[0m \u001b[0mb\u001b[0m\u001b[0;34m\u001b[0m\u001b[0;34m\u001b[0m\u001b[0m\n\u001b[0m\u001b[1;32m      3\u001b[0m   \u001b[0;32mreturn\u001b[0m \u001b[0mres\u001b[0m\u001b[0;34m\u001b[0m\u001b[0;34m\u001b[0m\u001b[0m\n\u001b[1;32m      4\u001b[0m \u001b[0mres\u001b[0m\u001b[0;34m=\u001b[0m\u001b[0mdivnum\u001b[0m\u001b[0;34m(\u001b[0m\u001b[0;36m10\u001b[0m\u001b[0;34m,\u001b[0m\u001b[0;36m0\u001b[0m\u001b[0;34m)\u001b[0m\u001b[0;34m\u001b[0m\u001b[0;34m\u001b[0m\u001b[0m\n\u001b[1;32m      5\u001b[0m \u001b[0mprint\u001b[0m\u001b[0;34m(\u001b[0m\u001b[0;34m\"Result:\"\u001b[0m\u001b[0;34m,\u001b[0m\u001b[0mres\u001b[0m\u001b[0;34m)\u001b[0m\u001b[0;34m\u001b[0m\u001b[0;34m\u001b[0m\u001b[0m\n",
            "\u001b[0;31mZeroDivisionError\u001b[0m: division by zero"
          ]
        }
      ]
    },
    {
      "cell_type": "markdown",
      "source": [
        "To prevent unhandled exceptions from terminating the program, you can use try-except blocks to catch and handle specific exceptions or use a broad except block to catch all exceptions and take appropriate actions, such as displaying an error message or logging the exception.\n"
      ],
      "metadata": {
        "id": "hgbPOMDtgAUu"
      }
    },
    {
      "cell_type": "markdown",
      "source": [
        "Q3. Which Python statements are used to handle and catch excpetions? explain with an example."
      ],
      "metadata": {
        "id": "-IrwovrCgJ5t"
      }
    },
    {
      "cell_type": "markdown",
      "source": [
        "In Python, the try-except statements are used to handle and catch exceptions. The structure of a try-except block allows you to specify a block of code that might raise an exception, and then define one or more except blocks to handle specific exceptions that may occur."
      ],
      "metadata": {
        "id": "teJoxCTVglup"
      }
    },
    {
      "cell_type": "code",
      "source": [
        "def divnum(a,b):\n",
        "  try:\n",
        "    res = a / b\n",
        "    print(\"Result:\",res)\n",
        "  except ZeroDivisionError:\n",
        "    print(\"give zero division error\")\n",
        "  except TypeError:\n",
        "    print(\"data type is not valid\")\n",
        "  except Exception as e:\n",
        "    print(\"Error:\",e)\n",
        "\n",
        "#handle zero div error\n",
        "divnum(10,0)\n",
        "\n",
        "#handle type error\n",
        "divnum(20,'abc')\n",
        "\n",
        "#handle other excpetion\n",
        "divnum(10,2)"
      ],
      "metadata": {
        "colab": {
          "base_uri": "https://localhost:8080/"
        },
        "id": "jLuoTKF_gWy0",
        "outputId": "2a191ecc-cd08-4603-e12b-3b0ec2dd50b5"
      },
      "execution_count": 5,
      "outputs": [
        {
          "output_type": "stream",
          "name": "stdout",
          "text": [
            "give zero division error\n",
            "data type is not valid\n",
            "Result: 5.0\n"
          ]
        }
      ]
    },
    {
      "cell_type": "markdown",
      "source": [
        "Q4. Explain with example:\n",
        "\n",
        "1. try and else\n",
        "2. finally\n",
        "3. raise"
      ],
      "metadata": {
        "id": "4CO3yYPch312"
      }
    },
    {
      "cell_type": "code",
      "source": [
        "def divnum(a,b):\n",
        "  try:\n",
        "    res = a / b\n",
        "    print(\"Result:\",res)\n",
        "  except ZeroDivisionError:\n",
        "    print(\"give zero division error\")\n",
        "  except TypeError:\n",
        "    print(\"data type is not valid\")\n",
        "  except Exception as e:\n",
        "    print(\"Error:\",e)\n",
        "  else:\n",
        "    print(\"Succesfully done\")\n",
        "\n",
        "#handle zero div error\n",
        "divnum(10,0)\n",
        "\n",
        "#handle type error\n",
        "divnum(20,'abc')\n",
        "\n",
        "#handle other excpetion\n",
        "divnum(10,2)"
      ],
      "metadata": {
        "colab": {
          "base_uri": "https://localhost:8080/"
        },
        "id": "BWnCTvXnieLv",
        "outputId": "50a960de-b013-4c2d-9629-a7e0c5fc3edc"
      },
      "execution_count": 7,
      "outputs": [
        {
          "output_type": "stream",
          "name": "stdout",
          "text": [
            "give zero division error\n",
            "data type is not valid\n",
            "Result: 5.0\n",
            "Succesfully done\n"
          ]
        }
      ]
    },
    {
      "cell_type": "code",
      "source": [
        "#check for finally keyword\n",
        "\n",
        "try:\n",
        "    file = open(\"example.txt\", \"r\")\n",
        "    data = file.read()\n",
        "except FileNotFoundError:\n",
        "    print(\"File not found.\")\n",
        "finally:\n",
        "    if 'file' in locals():\n",
        "        file.close()"
      ],
      "metadata": {
        "colab": {
          "base_uri": "https://localhost:8080/"
        },
        "id": "fzp7hA8RkU0A",
        "outputId": "5a3cdeba-9958-4166-82b9-1a916b8d37b6"
      },
      "execution_count": 10,
      "outputs": [
        {
          "output_type": "stream",
          "name": "stdout",
          "text": [
            "File not found.\n"
          ]
        }
      ]
    },
    {
      "cell_type": "code",
      "source": [
        "#check for raise keyword\n",
        "\n",
        "def divnum(a,b):\n",
        "  if b==0:\n",
        "    raise ZeroDivisionError(\"Not divisible by zero\")\n",
        "  return a / b\n",
        "\n",
        "try:\n",
        "  result=divnum(20,0)\n",
        "except ZeroDivisionError as e:\n",
        "  print(\"Error \\n \",e)\n"
      ],
      "metadata": {
        "colab": {
          "base_uri": "https://localhost:8080/"
        },
        "id": "-feVYnR8lUw_",
        "outputId": "4c97bc15-abdb-4b10-96a6-cb2875c68165"
      },
      "execution_count": 17,
      "outputs": [
        {
          "output_type": "stream",
          "name": "stdout",
          "text": [
            "Error \n",
            "  Not divisible by zero\n"
          ]
        }
      ]
    },
    {
      "cell_type": "markdown",
      "source": [
        "Q5.what are custom exceptions in Python why do we need custom exceptions explain with an example"
      ],
      "metadata": {
        "id": "Khy7CM5fnn0d"
      }
    },
    {
      "cell_type": "markdown",
      "source": [
        "Custom exceptions, also known as user-defined exceptions, are exceptions that you define in your Python code to handle specific error conditions that may not be adequately covered by built-in exceptions. They allow you to create more meaningful and descriptive error messages and to differentiate between various error scenarios in your code. Custom exceptions enhance code readability, maintainability, and debugging."
      ],
      "metadata": {
        "id": "WU0g2fw9nAbN"
      }
    },
    {
      "cell_type": "code",
      "source": [
        "class InsufficientBalanceError(Exception):\n",
        "    \"\"\"Custom exception for insufficient balance errors.\"\"\"\n",
        "\n",
        "    def __init__(self, balance, amount):\n",
        "        self.balance = balance\n",
        "        self.amount = amount\n",
        "        super().__init__(f\"Insufficient balance: Balance is {balance}, but {amount} required.\")\n",
        "\n",
        "\n",
        "class Account:\n",
        "    def __init__(self, balance):\n",
        "        self.balance = balance\n",
        "\n",
        "    def withdraw(self, amount):\n",
        "        if amount > self.balance:\n",
        "            raise InsufficientBalanceError(self.balance, amount)\n",
        "        else:\n",
        "            self.balance -= amount\n",
        "            return self.balance\n",
        "\n",
        "try:\n",
        "    account = Account(1000)\n",
        "    account.withdraw(1500)\n",
        "except InsufficientBalanceError as e:\n",
        "    print(f\"Error: {e}\")\n"
      ],
      "metadata": {
        "colab": {
          "base_uri": "https://localhost:8080/"
        },
        "id": "ZQmt1UALmAUA",
        "outputId": "dfaf88cc-da84-4eac-bd34-8dbe3a40e05b"
      },
      "execution_count": 18,
      "outputs": [
        {
          "output_type": "stream",
          "name": "stdout",
          "text": [
            "Error: Insufficient balance: Balance is 1000, but 1500 required.\n"
          ]
        }
      ]
    },
    {
      "cell_type": "markdown",
      "source": [
        "Q6. create a custom exception class use this class to handle an exception"
      ],
      "metadata": {
        "id": "XnvHzwtBnaV2"
      }
    },
    {
      "cell_type": "code",
      "source": [
        "class CustomError(Exception):\n",
        "    \"\"\"Custom exception class for demonstration purposes.\"\"\"\n",
        "\n",
        "    def __init__(self, message):\n",
        "        self.message = message\n",
        "        super().__init__(self.message)\n",
        "\n",
        "def divide(a, b):\n",
        "    if b == 0:\n",
        "        raise CustomError(\"Division by zero is not allowed\")\n",
        "    return a / b\n",
        "\n",
        "try:\n",
        "    result = divide(10, 0)\n",
        "except CustomError as e:\n",
        "    print(\"Custom Error Caught:\", e)\n"
      ],
      "metadata": {
        "colab": {
          "base_uri": "https://localhost:8080/"
        },
        "id": "vjQ7N23KnIc-",
        "outputId": "6aaef5dd-c54b-46ec-e8b7-561cbc183d3d"
      },
      "execution_count": 19,
      "outputs": [
        {
          "output_type": "stream",
          "name": "stdout",
          "text": [
            "Custom Error Caught: Division by zero is not allowed\n"
          ]
        }
      ]
    },
    {
      "cell_type": "code",
      "source": [],
      "metadata": {
        "id": "QmRSF7NXnYyI"
      },
      "execution_count": null,
      "outputs": []
    }
  ]
}