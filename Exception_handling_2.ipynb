{
  "nbformat": 4,
  "nbformat_minor": 0,
  "metadata": {
    "colab": {
      "provenance": [],
      "authorship_tag": "ABX9TyMc/oPVffQuizX5UkNOUEWR"
    },
    "kernelspec": {
      "name": "python3",
      "display_name": "Python 3"
    },
    "language_info": {
      "name": "python"
    }
  },
  "cells": [
    {
      "cell_type": "markdown",
      "source": [
        "Q1. Explain why we have to use the Exception class while creating a Custom Exception."
      ],
      "metadata": {
        "id": "jlmJgMDfQDYd"
      }
    },
    {
      "cell_type": "markdown",
      "source": [
        "When creating a custom exception in a programming language like Java, Python, C#, or others, it's important to use the Exception class (or a subclass of it) as the base class for your custom exception. Here's why:\n",
        "\n",
        "Inheritance and Polymorphism: By inheriting from the Exception class, your custom exception becomes a part of the exception hierarchy in the programming language.\n",
        "\n",
        "Consistency: Using the Exception class ensures that your custom exception follows the same conventions and behaviors as built-in exceptions in the language.\n",
        "\n",
        "class CustomException(Exception):\n",
        "    def __init__(self, message):\n",
        "        super().__init__(message)\n",
        "\n",
        "# Usage:\n",
        "try:\n",
        "\n",
        "    # Some code that may raise your custom exception\n",
        "    raise CustomException(\"This is a custom exception.\")\n",
        "\n",
        "except CustomException as ce:\n",
        "\n",
        "    print(f\"Caught custom exception: {ce}\")\n"
      ],
      "metadata": {
        "id": "TH9WFYWoQDFX"
      }
    },
    {
      "cell_type": "markdown",
      "source": [
        "Q2.Write a python program to print Python Exception Hierarchy.\n"
      ],
      "metadata": {
        "id": "Oe9U96FxQmA3"
      }
    },
    {
      "cell_type": "code",
      "source": [
        "def print_exception_hierarchy(exception_class, indent=0):\n",
        "    print(\"  \" * indent + exception_class.__name__)\n",
        "    for base_class in exception_class.__bases__:\n",
        "        print_exception_hierarchy(base_class, indent + 1)\n",
        "\n",
        "print(\"Python Exception Hierarchy:\")\n",
        "print_exception_hierarchy(BaseException)"
      ],
      "metadata": {
        "colab": {
          "base_uri": "https://localhost:8080/"
        },
        "id": "l-AxM3WYQ2QW",
        "outputId": "d81b5f09-ab32-4fe3-8e5b-555711a7f9ab"
      },
      "execution_count": null,
      "outputs": [
        {
          "output_type": "stream",
          "name": "stdout",
          "text": [
            "Python Exception Hierarchy:\n",
            "BaseException\n",
            "  object\n"
          ]
        }
      ]
    },
    {
      "cell_type": "markdown",
      "source": [
        "Q3.What errors are defined in the ArithmeticError class? Explain any two with an example."
      ],
      "metadata": {
        "id": "TGqpp7S3T5hG"
      }
    },
    {
      "cell_type": "markdown",
      "source": [
        "The ArithmeticError class is a base class for exceptions that are raised for various arithmetic errors in Python. It has several subclasses, each representing a specific type of arithmetic error."
      ],
      "metadata": {
        "id": "GoX6RW6hX3Yf"
      }
    },
    {
      "cell_type": "code",
      "source": [
        "#Zero Division Error\n",
        "\n",
        "try:\n",
        "  res=10/0\n",
        "except ZeroDivisionError as e:\n",
        "  print('not divisible')"
      ],
      "metadata": {
        "colab": {
          "base_uri": "https://localhost:8080/"
        },
        "id": "KDSRIHy9X7Nm",
        "outputId": "ec72affb-9aa1-4c1e-ea39-766743959a80"
      },
      "execution_count": null,
      "outputs": [
        {
          "output_type": "stream",
          "name": "stdout",
          "text": [
            "not divisible\n"
          ]
        }
      ]
    },
    {
      "cell_type": "code",
      "source": [
        "#overflow error\n",
        "\n",
        "import sys\n",
        "\n",
        "try:\n",
        "    large_number = sys.maxsize + 1\n",
        "except OverflowError as e:\n",
        "    print(f\"Caught OverflowError: {e}\")"
      ],
      "metadata": {
        "id": "ynZdYjB3YKyA"
      },
      "execution_count": null,
      "outputs": []
    },
    {
      "cell_type": "markdown",
      "source": [
        "Q4.Why LookupError class is used? Explain with an example KeyError and IndexError.\n",
        "\n"
      ],
      "metadata": {
        "id": "7pAOZxuvagP8"
      }
    },
    {
      "cell_type": "markdown",
      "source": [
        "KeyError:\n",
        "\n",
        "KeyError is raised when you try to access a dictionary with a key that does not exist in the dictionary."
      ],
      "metadata": {
        "id": "_YVvYCq0Zbaz"
      }
    },
    {
      "cell_type": "code",
      "source": [
        "mydict={'name':'Ellie','age':27}\n",
        "try:\n",
        "  val=mydict['city']\n",
        "except KeyError as e:\n",
        "  print(f'caught KeyError: {e}')"
      ],
      "metadata": {
        "colab": {
          "base_uri": "https://localhost:8080/"
        },
        "id": "qW39JknIZcR9",
        "outputId": "cf074eb3-ca7a-40ba-adb1-5740243f6e16"
      },
      "execution_count": null,
      "outputs": [
        {
          "output_type": "stream",
          "name": "stdout",
          "text": [
            "caught KeyError: 'city'\n"
          ]
        }
      ]
    },
    {
      "cell_type": "markdown",
      "source": [
        "IndexError:\n",
        "\n",
        "IndexError is raised when you try to access an index in a sequence (like a list or tuple) that is out of range."
      ],
      "metadata": {
        "id": "1hKeNGWNbAk7"
      }
    },
    {
      "cell_type": "code",
      "source": [
        "my_list = [1, 2, 3]\n",
        "\n",
        "try:\n",
        "    value = my_list[3]\n",
        "except IndexError as e:\n",
        "    print(f\"Caught IndexError: {e}\")\n"
      ],
      "metadata": {
        "id": "d_aEYS5KbE7n",
        "colab": {
          "base_uri": "https://localhost:8080/"
        },
        "outputId": "bab689f0-3e5c-41a2-875a-18ede6e5e5e7"
      },
      "execution_count": 1,
      "outputs": [
        {
          "output_type": "stream",
          "name": "stdout",
          "text": [
            "Caught IndexError: list index out of range\n"
          ]
        }
      ]
    },
    {
      "cell_type": "markdown",
      "source": [
        "Q5. Explain ImportError. What is ModuleNotFoundError?"
      ],
      "metadata": {
        "id": "FiJPraU4iHZl"
      }
    },
    {
      "cell_type": "markdown",
      "source": [
        "ImportError is a built-in exception class in Python that is raised when an import statement fails to find and load a module. It is a common exception that occurs when you try to import a module that doesn't exist, has been moved, or is not properly installed."
      ],
      "metadata": {
        "id": "5G96h-DxiQDo"
      }
    },
    {
      "cell_type": "code",
      "source": [
        "try:\n",
        "  import non_existent_module\n",
        "except ImportError as e:\n",
        "  print(f'Caught ImportError: {e}')"
      ],
      "metadata": {
        "colab": {
          "base_uri": "https://localhost:8080/"
        },
        "id": "VNN4B7ZDiKyP",
        "outputId": "d8e5dbb1-bcbb-4009-a97c-3d34e1a9901a"
      },
      "execution_count": 3,
      "outputs": [
        {
          "output_type": "stream",
          "name": "stdout",
          "text": [
            "Caught ImportError: No module named 'non_existent_module'\n"
          ]
        }
      ]
    },
    {
      "cell_type": "markdown",
      "source": [
        "Q6. List down some best practices for exception handling in python."
      ],
      "metadata": {
        "id": "1FEw7Cz1izrS"
      }
    },
    {
      "cell_type": "markdown",
      "source": [
        "Exception handling is an essential aspect of writing robust and maintainable Python code. Here are some best practices for effective exception handling in Python:\n",
        "\n",
        "Use Specific Exception Types:\n",
        "\n",
        "Catch specific exceptions rather than using a broad Exception catch-all. This allows you to handle different errors differently and avoids catching unexpected exceptions.\n",
        "\n",
        "Handle Exceptions Appropriately:\n",
        "\n",
        "Handle exceptions at the appropriate level in your code. Don't catch exceptions too early or too late; catch them where you can take meaningful corrective action.\n",
        "\n",
        "Log Exceptions:\n",
        "\n",
        "Log exceptions using a logging library (e.g., logging) to capture diagnostic information. Logging can be invaluable for debugging and monitoring."
      ],
      "metadata": {
        "id": "-769SKhPjKuy"
      }
    },
    {
      "cell_type": "code",
      "source": [],
      "metadata": {
        "id": "UDuLSaJFi0bh"
      },
      "execution_count": null,
      "outputs": []
    }
  ]
}