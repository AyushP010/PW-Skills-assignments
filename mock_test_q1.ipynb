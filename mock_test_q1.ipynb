{
  "nbformat": 4,
  "nbformat_minor": 0,
  "metadata": {
    "colab": {
      "provenance": [],
      "authorship_tag": "ABX9TyNgdH+6tVz07KbmwoU/3tOT"
    },
    "kernelspec": {
      "name": "python3",
      "display_name": "Python 3"
    },
    "language_info": {
      "name": "python"
    }
  },
  "cells": [
    {
      "cell_type": "markdown",
      "source": [
        "## Q1 Write a function that takes a list of numbers as input and returns a new list containing only the even numbers from the input list. Use list comprehension to solve this problem."
      ],
      "metadata": {
        "id": "TO4AThXp5hbr"
      }
    },
    {
      "cell_type": "code",
      "execution_count": 2,
      "metadata": {
        "id": "Xo22QaI-5e2_"
      },
      "outputs": [],
      "source": [
        "def get_even_numbers(numbers):\n",
        "    return [num for num in numbers if num % 2 == 0]"
      ]
    },
    {
      "cell_type": "code",
      "source": [
        "sample_input = [1, 2, 3, 4, 5, 6, 7, 8, 9, 10]\n",
        "result = get_even_numbers(sample_input)\n",
        "print(result)"
      ],
      "metadata": {
        "colab": {
          "base_uri": "https://localhost:8080/"
        },
        "id": "KRAKKVb-5nIx",
        "outputId": "b1c499b8-b228-4ebb-d171-ae4db2ff394d"
      },
      "execution_count": 3,
      "outputs": [
        {
          "output_type": "stream",
          "name": "stdout",
          "text": [
            "[2, 4, 6, 8, 10]\n"
          ]
        }
      ]
    }
  ]
}