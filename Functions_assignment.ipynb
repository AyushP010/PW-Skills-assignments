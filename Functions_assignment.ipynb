{
  "nbformat": 4,
  "nbformat_minor": 0,
  "metadata": {
    "colab": {
      "provenance": [],
      "authorship_tag": "ABX9TyOYY5yekwJJd6msUwiUYkuq"
    },
    "kernelspec": {
      "name": "python3",
      "display_name": "Python 3"
    },
    "language_info": {
      "name": "python"
    }
  },
  "cells": [
    {
      "cell_type": "markdown",
      "source": [
        "Q1. Which keyword is used to create a function? Create a function to return a list of odd numbers in the range of 1 to 25."
      ],
      "metadata": {
        "id": "APN3_Z3RqDUf"
      }
    },
    {
      "cell_type": "code",
      "source": [
        "def get_odd_numbers():\n",
        "    odd_numbers = []\n",
        "    for num in range(1, 26):\n",
        "        if num % 2 != 0:\n",
        "            odd_numbers.append(num)\n",
        "    return odd_numbers\n",
        "\n",
        "# Call the function\n",
        "result = get_odd_numbers()\n",
        "print(result)"
      ],
      "metadata": {
        "colab": {
          "base_uri": "https://localhost:8080/"
        },
        "id": "3ImdSjR9sWjQ",
        "outputId": "4e4dd127-3bf7-44c7-da82-1fc30c8059bb"
      },
      "execution_count": 18,
      "outputs": [
        {
          "output_type": "stream",
          "name": "stdout",
          "text": [
            "[1, 3, 5, 7, 9, 11, 13, 15, 17, 19, 21, 23, 25]\n"
          ]
        }
      ]
    },
    {
      "cell_type": "markdown",
      "source": [
        "Q2. Why *args and **kwargs is used in some functions? Create a function each for *args and **kwargs to demonstrate their use."
      ],
      "metadata": {
        "id": "o8C3AhyqtY9p"
      }
    },
    {
      "cell_type": "code",
      "source": [
        "def my_function(*args):\n",
        "  for arg in args:\n",
        "    print(arg)"
      ],
      "metadata": {
        "id": "eJV3n_fAs_WT"
      },
      "execution_count": 19,
      "outputs": []
    },
    {
      "cell_type": "code",
      "source": [
        "my_function()\n",
        "my_function(1)\n",
        "my_function(1, 2, 3)"
      ],
      "metadata": {
        "colab": {
          "base_uri": "https://localhost:8080/"
        },
        "id": "LUVJkMUEtbDU",
        "outputId": "29a9e221-e8ee-4313-bc9e-c4433ab36aa8"
      },
      "execution_count": 20,
      "outputs": [
        {
          "output_type": "stream",
          "name": "stdout",
          "text": [
            "1\n",
            "1\n",
            "2\n",
            "3\n"
          ]
        }
      ]
    },
    {
      "cell_type": "markdown",
      "source": [
        "Q3. What is an iterator in python? Name the method used to initialise the iterator object and the method used for iteration. Use these methods to print the first five elements of the given list [2, 4, 6, 8, 10, 12, 14, 16,\n",
        "18, 20]."
      ],
      "metadata": {
        "id": "GmS1LXgauyTo"
      }
    },
    {
      "cell_type": "code",
      "source": [
        "mylist=[2,4,6,8,10,12,14,16,18,20]\n",
        "myiterator=iter(mylist)\n",
        "for i in range(6):\n",
        "  element=next(myiterator)\n",
        "  print(element)"
      ],
      "metadata": {
        "colab": {
          "base_uri": "https://localhost:8080/"
        },
        "id": "cdIN0QNktfrj",
        "outputId": "db9266b4-6458-46d1-9884-e2c1af74b0b5"
      },
      "execution_count": 27,
      "outputs": [
        {
          "output_type": "stream",
          "name": "stdout",
          "text": [
            "2\n",
            "4\n",
            "6\n",
            "8\n",
            "10\n",
            "12\n"
          ]
        }
      ]
    },
    {
      "cell_type": "markdown",
      "source": [
        "Q4. What is a generator function in python? Why yield keyword is used? Give an example of a generator function."
      ],
      "metadata": {
        "id": "dRNdA_hyu8Lo"
      }
    },
    {
      "cell_type": "code",
      "source": [
        "def fib_gen():\n",
        "  a,b=0,1\n",
        "  while True:\n",
        "    yield a\n",
        "    a,b=b,a+b\n",
        "\n",
        "#driver code\n",
        "fibonacci=fib_gen()\n",
        "for _ in range(20):\n",
        "  print(next(fibonacci))"
      ],
      "metadata": {
        "colab": {
          "base_uri": "https://localhost:8080/"
        },
        "id": "4-g6VhKDt72K",
        "outputId": "b8e3d8d0-1f9e-40c9-a360-f5784aea105f"
      },
      "execution_count": 30,
      "outputs": [
        {
          "output_type": "stream",
          "name": "stdout",
          "text": [
            "0\n",
            "1\n",
            "1\n",
            "2\n",
            "3\n",
            "5\n",
            "8\n",
            "13\n",
            "21\n",
            "34\n",
            "55\n",
            "89\n",
            "144\n",
            "233\n",
            "377\n",
            "610\n",
            "987\n",
            "1597\n",
            "2584\n",
            "4181\n"
          ]
        }
      ]
    },
    {
      "cell_type": "markdown",
      "source": [
        "Q5. Create a generator function for prime numbers less than 1000. Use the next() method to print the first 20 prime numbers."
      ],
      "metadata": {
        "id": "J9aPbVn8u9Ad"
      }
    },
    {
      "cell_type": "code",
      "source": [
        "def prime_gen():\n",
        "  primenos=[]\n",
        "  num=2\n",
        "  while True:\n",
        "    if all(num % prime !=0 for prime in primenos):\n",
        "      primenos.append(num)\n",
        "      yield num\n",
        "    num+=1\n",
        "\n",
        "#driver code\n",
        "\n",
        "primes=prime_gen()\n",
        "for _ in range(8):\n",
        "  print(next(primes))"
      ],
      "metadata": {
        "colab": {
          "base_uri": "https://localhost:8080/"
        },
        "id": "V5LpHfY5u8s9",
        "outputId": "a0c14bf8-0f3e-4d4e-8912-780c35ac54f9"
      },
      "execution_count": 36,
      "outputs": [
        {
          "output_type": "stream",
          "name": "stdout",
          "text": [
            "2\n",
            "3\n",
            "5\n",
            "7\n",
            "11\n",
            "13\n",
            "17\n",
            "19\n"
          ]
        }
      ]
    },
    {
      "cell_type": "code",
      "source": [],
      "metadata": {
        "id": "FXkovGMS2u2S"
      },
      "execution_count": null,
      "outputs": []
    }
  ]
}