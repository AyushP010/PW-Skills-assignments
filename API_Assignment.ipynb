{
  "nbformat": 4,
  "nbformat_minor": 0,
  "metadata": {
    "colab": {
      "provenance": [],
      "authorship_tag": "ABX9TyO9RdY+69gZvlpGkVCLAT7/"
    },
    "kernelspec": {
      "name": "python3",
      "display_name": "Python 3"
    },
    "language_info": {
      "name": "python"
    }
  },
  "cells": [
    {
      "cell_type": "markdown",
      "source": [
        "# Q1. What is an API? Give an example, where an API is used in real life."
      ],
      "metadata": {
        "id": "Y4OGy0LWHfkw"
      }
    },
    {
      "cell_type": "markdown",
      "source": [
        "API stands for Application Programming Interface.\n",
        "\n",
        "API provides communication between software systems and data.\n"
      ],
      "metadata": {
        "id": "DcUk50axH_MG"
      }
    },
    {
      "cell_type": "markdown",
      "source": [
        "## Q2. Give advantages and disadvantages of using API."
      ],
      "metadata": {
        "id": "bxlEaXXNIDu9"
      }
    },
    {
      "cell_type": "markdown",
      "source": [
        "Advantages:\n",
        "\n",
        "Modularity and Reusability: APIs promote modularity in software development. Developers can build functionalities as APIs, making it easier to reuse code in different projects without having to recreate the entire functionality from scratch.\n",
        "\n",
        "Rapid Development: By using APIs, developers can leverage pre-built functionalities and services, reducing development time and effort. This accelerates the overall development process.\n",
        "\n"
      ],
      "metadata": {
        "id": "vGMd8rogID3c"
      }
    },
    {
      "cell_type": "markdown",
      "source": [
        "Disadvantages\n",
        "\n",
        "Dependency: When using external APIs, your application becomes dependent on the reliability and availability of those APIs. If the third-party service experiences downtime or changes its API, it can disrupt your application.\n",
        "\n",
        "Versioning and Compatibility: API providers may update or change their APIs over time, leading to versioning issues and compatibility problems for existing applications that relied on the older API version."
      ],
      "metadata": {
        "id": "752eP2h5ID6R"
      }
    },
    {
      "cell_type": "markdown",
      "source": [
        "## Q3. What is a Web API? Differentiate between API and Web API."
      ],
      "metadata": {
        "id": "KKzMtD4NID9p"
      }
    },
    {
      "cell_type": "markdown",
      "source": [
        "API stands for Application Programming Interface.\n",
        "\n",
        "API provides communication between software systems and data.\n",
        "\n",
        "Example: In a non-web context, an API could be a set of functions that a programming language provides to interact with the file system or access hardware features like the camera or Bluetooth."
      ],
      "metadata": {
        "id": "ayWA0F9dIEAB"
      }
    },
    {
      "cell_type": "markdown",
      "source": [
        "Web API is a type of API used for web applications.\n",
        "\n",
        "Similar to API but it has a different use\n",
        "\n",
        "Example: The Google Maps API is a Web API that allows developers to integrate Google Maps functionality, such as displaying maps, geocoding addresses, or calculating routes, into their web applications."
      ],
      "metadata": {
        "id": "3VgyoABeJdzu"
      }
    },
    {
      "cell_type": "markdown",
      "source": [
        "## Q4. Explain REST and SOAP Architecture. Mention shortcomings of SOAP."
      ],
      "metadata": {
        "id": "cKpvdhm0Jd5G"
      }
    },
    {
      "cell_type": "markdown",
      "source": [
        "REST (Representational State Transfer):\n",
        "\n",
        "REST is an architectural style for designing networked applications. It is a set of principles that define how web services should communicate over the internet. RESTful APIs use standard HTTP methods (GET, POST, PUT, DELETE) to perform CRUD (Create, Read, Update, Delete) operations on resources, and data is usually exchanged in formats like JSON or XML.\n",
        "\n",
        "SOAP (Simple Object Access Protocol):\n",
        "\n",
        "SOAP is another protocol used for communication between web services. Unlike REST, which uses lightweight standards like HTTP, SOAP relies on XML as its message format and can use various underlying protocols for transportation, like HTTP, SMTP, TCP, etc.\n",
        "\n",
        "In simple words, SOAP is like sending letters in a well-defined, structured format (XML) using different delivery methods (protocols) to communicate between web services."
      ],
      "metadata": {
        "id": "qljb-zACKLNV"
      }
    },
    {
      "cell_type": "markdown",
      "source": [
        "Shortcomings of SOAP:\n",
        "\n",
        "Complexity: SOAP messages can be quite complex due to their XML-based structure. This complexity can make it challenging to read, write, and debug SOAP-based services.\n",
        "\n",
        "Overhead: SOAP messages tend to be larger compared to RESTful messages because of the XML format. This can result in increased bandwidth usage and slower transmission."
      ],
      "metadata": {
        "id": "buLELsL-LadG"
      }
    },
    {
      "cell_type": "markdown",
      "source": [
        "Q5. Differentiate between REST and SOAP."
      ],
      "metadata": {
        "id": "-z3CkIXHKLYl"
      }
    },
    {
      "cell_type": "markdown",
      "source": [
        "REST (Representational State Transfer)\n",
        "\n",
        "uses HTTP protocol\n",
        "\n",
        "uses functions like PUT,GET,POST etc.\n",
        "\n",
        "known for simplicity and scalability.\n",
        "\n",
        "\n",
        "SOAP (Simple Object Access Protocol)\n",
        "\n",
        "may use TCP / SMTP protocol.\n",
        "\n",
        "transfers message through XML\n",
        "\n",
        "internal rules are written in WSDL file"
      ],
      "metadata": {
        "id": "eLX_9FGaKLp1"
      }
    }
  ]
}