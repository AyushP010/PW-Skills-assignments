{
  "nbformat": 4,
  "nbformat_minor": 0,
  "metadata": {
    "colab": {
      "provenance": [],
      "authorship_tag": "ABX9TyO9Vf+yiHcvTLGSRFlop4J9"
    },
    "kernelspec": {
      "name": "python3",
      "display_name": "Python 3"
    },
    "language_info": {
      "name": "python"
    }
  },
  "cells": [
    {
      "cell_type": "markdown",
      "source": [
        "Q1.What is the Filter method in feature selection, and how does it work?"
      ],
      "metadata": {
        "id": "lKFlBe11seTE"
      }
    },
    {
      "cell_type": "markdown",
      "source": [
        "Filter method is a way to select the important information from a large dataset\n",
        "which can be used to increase accuracy of the model.\n",
        "\n",
        "Filter method\n",
        "In this method, features are filtered based on general characteristics (some metric such as correlation) of the dataset such correlation with the dependent variable.\n",
        "\n",
        "It does not modify the original array.\n"
      ],
      "metadata": {
        "id": "eQlX_XfnsgzH"
      }
    },
    {
      "cell_type": "markdown",
      "source": [
        "Q2.How does the Wrapper method differ from the Filter method in feature selection?"
      ],
      "metadata": {
        "id": "AKJk6eQ8zlkD"
      }
    },
    {
      "cell_type": "markdown",
      "source": [
        "Feature\t          Filter Methods\t              Wrapper Methods\n",
        "\n",
        "Focus             Individual feature relevance\tFeature subset usefulness\n",
        "Model dependence\tIndependent\t                  Dependent\n",
        "\n",
        "Evaluation metric\tStatistical scores(correlation,\n",
        "variance, etc.)\n",
        "                                                Model performance (accuracy, precision, etc.)\n",
        "                                                \n",
        "Computational cost\tLow\t                        High\n",
        "\n",
        "Overfitting risk\tLower\t                        Higher (if not cross-validated)"
      ],
      "metadata": {
        "id": "Uqdi4CwQzlnS"
      }
    },
    {
      "cell_type": "markdown",
      "source": [
        "Q3. What are some common techniques used in Embedded feature selection methods?"
      ],
      "metadata": {
        "id": "26OyZgmjWaw-"
      }
    },
    {
      "cell_type": "markdown",
      "source": [
        "Some common techniques which can be used in feature selection methods are:\n",
        "\n",
        "L1 Regularization(Lasso Regression): It adds a penalty term to the absolute values of the coefficents due to which some coefficents become zero.\n",
        "\n",
        "L2 Regularization(Ridge Regression): It adds a penalty term to the squared values of the coefficents and aims to prevent overfitting.\n",
        "\n",
        "Elastic Net Regression: It combines both L1 and L2 regression."
      ],
      "metadata": {
        "id": "YnZskBcGWbBb"
      }
    },
    {
      "cell_type": "markdown",
      "source": [
        "Q4. What are some drawbacks of using the Filter method for feature selection?\n"
      ],
      "metadata": {
        "id": "3z77T1wTaIqn"
      }
    },
    {
      "cell_type": "markdown",
      "source": [
        "While feature selection offers benefits, it's important to consider its potential drawbacks:\n",
        "\n",
        "Information Loss: careful evaluation has to be done to ensure that important data is not lost.\n",
        "\n",
        "Potential for Redundancy: Redundant features when present in the dataset can hinder with the model performance.\n",
        "\n",
        "Computational Cost: While feature selection is normally very efficent sometimes it can be computationally expensive when there is a large dataset with lots of features."
      ],
      "metadata": {
        "id": "8tWmxzmXaIng"
      }
    },
    {
      "cell_type": "markdown",
      "source": [
        "Q5. In which situations would you prefer using the Filter method over the Wrapper method for feature selection?"
      ],
      "metadata": {
        "id": "hPStSjtfd0cU"
      }
    },
    {
      "cell_type": "markdown",
      "source": [
        "Here are situations where the Filter method might be preferred over the Wrapper method for feature selection:\n",
        "\n",
        "1.Large Number of Features:\n",
        "\n",
        "When dealing with datasets containing thousands or even millions of features, Filter methods offer significant speed advantages.\n",
        "\n",
        "2.Computational Constraints:\n",
        "\n",
        "If computational resources are limited, Filter methods provide a more efficient way to narrow down the feature set quickly."
      ],
      "metadata": {
        "id": "_6nWZPc8d0ZT"
      }
    },
    {
      "cell_type": "markdown",
      "source": [
        "Q6.In a telecom company, you are working on a project to develop a predictive model for customer churn.You are unsure of which features to include in the model because the dataset contains several different ones. Describe how you would choose the most pertinent attributes for the model using the Filter Method."
      ],
      "metadata": {
        "id": "gyRtjuRY8Tnr"
      }
    },
    {
      "cell_type": "markdown",
      "source": [
        "Filter method is a way to select the important information from a large dataset\n",
        "which can be used to increase accuracy of the model.\n",
        "\n",
        "Filter method In this method, features are filtered based on general characteristics (some metric such as correlation) of the dataset such correlation with the dependent variable.\n",
        "\n",
        "In a telecom company one of the very important features is the service which the people avail like cable,internet etc.\n",
        "\n",
        "Tenure — How long they had been a customer\n",
        "\n",
        "these 2 features are chosen based on their relevance to the dataset using the Filter Method."
      ],
      "metadata": {
        "id": "dOIYWa3w8w91"
      }
    },
    {
      "cell_type": "markdown",
      "source": [
        "Q7. You are working on a project to predict the outcome of a soccer match. You have a large dataset with\n",
        "many features, including player statistics and team rankings. Explain how you would use the Embedded\n",
        "method to select the most relevant features for the model."
      ],
      "metadata": {
        "id": "6dWGLRY88Ltm"
      }
    },
    {
      "cell_type": "markdown",
      "source": [
        "In a soccer match there will be maily 2 outcomes:\n",
        "\n",
        "1. Win\n",
        "2. Loss\n",
        "\n",
        "Another outcome which can be seen is if the match is a **draw**.\n",
        "\n",
        "Player statistics will give an overall view of the player's abilities.\n",
        "\n",
        "Team rankings will provide a hierarchial view of the top teams wins/looses.\n",
        "\n",
        "Decision Trees and ensemble techniques can perform feature selection by seeing the importance of all the features.\n",
        "\n",
        "Lasso Regression: This penalizes large coefficients, effectively shrinking irrelevant features to zero and reducing their influence on the model. This is good for identifying a sparse set of important features.\n",
        "\n",
        "Using the above Embedded methods we can select the relevant features of the model."
      ],
      "metadata": {
        "id": "S4QAtJ9x8Lqx"
      }
    },
    {
      "cell_type": "markdown",
      "source": [
        "Q8. You are working on a project to predict the price of a house based on its features, such as size, location,\n",
        "and age. You have a limited number of features, and you want to ensure that you select the most important\n",
        "ones for the model. Explain how you would use the Wrapper method to select the best set of features for the\n",
        "predictor."
      ],
      "metadata": {
        "id": "JTiqnYp9IC2H"
      }
    },
    {
      "cell_type": "markdown",
      "source": [
        " For predicting the price of a house we can use 2 main features:\n",
        "\n",
        "1. Size\n",
        "2. Location\n",
        "\n",
        "Age of the house is a feature which is not very relevant for the house price prediction.\n",
        "\n",
        "Wrapper method aims to find the feature subset that yields the best model performance.\n",
        "\n",
        "Size of the house can be used as a main feature because the area of the property is a crucial aspect to determine the price.\n",
        "\n",
        "By using search strategies the features can be chosen and the least important one can be removed.\n",
        "\n",
        "Model training is done after the feature subsets are created and a relevant metric is used."
      ],
      "metadata": {
        "id": "igt_SnvkIDIN"
      }
    }
  ]
}