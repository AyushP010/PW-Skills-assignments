{
 "cells": [
  {
   "cell_type": "markdown",
   "id": "d64f6098-7855-46cf-a228-e10e8485497d",
   "metadata": {},
   "source": [
    "# Q1. Create one variable containing following type of data:"
   ]
  },
  {
   "cell_type": "code",
   "execution_count": null,
   "id": "c2be3162-cc70-4669-b0fe-60901113f4d1",
   "metadata": {},
   "outputs": [],
   "source": [
    "a=\"Hello all\"\n",
    "b=list[1,2,3,4,'i','am','lucky']\n",
    "c=float(24.04)\n",
    "d="
   ]
  },
  {
   "cell_type": "markdown",
   "id": "61cfd1eb-d905-46d0-a073-5310629454fc",
   "metadata": {},
   "source": [
    "# Q2. Given are some following variables containing data:\n",
    "\n",
    "(i) var1 = ‘ ‘\n",
    "(ii) var2 = ‘[ DS , ML , Python]’\n",
    "(iii) var3 = [ ‘DS’ , ’ML’ , ‘Python’ ]\n",
    "(iv) var4 = 1.\n",
    "\n",
    "What will be the data type of the above given variable.\n"
   ]
  },
  {
   "cell_type": "code",
   "execution_count": 4,
   "id": "a5a5e639-5be7-4a99-aa65-e2d6ffe233ca",
   "metadata": {},
   "outputs": [
    {
     "data": {
      "text/plain": [
       "str"
      ]
     },
     "execution_count": 4,
     "metadata": {},
     "output_type": "execute_result"
    }
   ],
   "source": [
    "var1 = \"\"\n",
    "type(var1)"
   ]
  },
  {
   "cell_type": "code",
   "execution_count": 5,
   "id": "a3815136-3f71-42a7-9020-e9b68668688c",
   "metadata": {},
   "outputs": [
    {
     "data": {
      "text/plain": [
       "str"
      ]
     },
     "execution_count": 5,
     "metadata": {},
     "output_type": "execute_result"
    }
   ],
   "source": [
    "var2 = '[ DS , ML , Python]'\n",
    "type(var2)"
   ]
  },
  {
   "cell_type": "code",
   "execution_count": 1,
   "id": "ed913b7f-cfaf-43ab-be7e-5e80cae354ab",
   "metadata": {},
   "outputs": [
    {
     "data": {
      "text/plain": [
       "list"
      ]
     },
     "execution_count": 1,
     "metadata": {},
     "output_type": "execute_result"
    }
   ],
   "source": [
    "var3=[ 'DS' , 'ML' , 'Python' ]\n",
    "type(var3)"
   ]
  },
  {
   "cell_type": "code",
   "execution_count": 2,
   "id": "aa32c5d2-018c-4c2d-9076-eb548e361510",
   "metadata": {},
   "outputs": [
    {
     "data": {
      "text/plain": [
       "int"
      ]
     },
     "execution_count": 2,
     "metadata": {},
     "output_type": "execute_result"
    }
   ],
   "source": [
    "var4=1\n",
    "type(var4)"
   ]
  },
  {
   "cell_type": "markdown",
   "id": "c4c18faa-d1eb-4302-8bdd-ca78868fff73",
   "metadata": {},
   "source": [
    "# Q3. Explain the use of the following operators using an example:\n",
    "\n",
    "(i) /\n",
    "(ii) %\n",
    "(iii) //\n",
    "(iv) **"
   ]
  },
  {
   "cell_type": "markdown",
   "id": "33b7c160-bf44-4d81-ad8a-85014160a9db",
   "metadata": {},
   "source": [
    "# / Division (float): divides the first operand by the second"
   ]
  },
  {
   "cell_type": "code",
   "execution_count": 7,
   "id": "f519631c-ca89-4899-8403-ab9a96a06682",
   "metadata": {},
   "outputs": [
    {
     "data": {
      "text/plain": [
       "2.0"
      ]
     },
     "execution_count": 7,
     "metadata": {},
     "output_type": "execute_result"
    }
   ],
   "source": [
    "4/2"
   ]
  },
  {
   "cell_type": "markdown",
   "id": "ee2918df-62bf-484f-abc2-ac4120904473",
   "metadata": {},
   "source": [
    "# % Modulus: returns the remainder when the first operand is divided by the second"
   ]
  },
  {
   "cell_type": "code",
   "execution_count": 8,
   "id": "101b0776-5e79-412c-99b5-b8527b439332",
   "metadata": {},
   "outputs": [
    {
     "data": {
      "text/plain": [
       "0"
      ]
     },
     "execution_count": 8,
     "metadata": {},
     "output_type": "execute_result"
    }
   ],
   "source": [
    "4%2"
   ]
  },
  {
   "cell_type": "markdown",
   "id": "1bc5fc98-ebbd-4591-83c4-c50f97ad973f",
   "metadata": {},
   "source": [
    "# // Division (floor): divides the first operand by the second"
   ]
  },
  {
   "cell_type": "code",
   "execution_count": 9,
   "id": "fa9fa9ba-d5a5-4b16-95eb-f08da4e00890",
   "metadata": {},
   "outputs": [
    {
     "data": {
      "text/plain": [
       "2"
      ]
     },
     "execution_count": 9,
     "metadata": {},
     "output_type": "execute_result"
    }
   ],
   "source": [
    "4//2"
   ]
  },
  {
   "cell_type": "markdown",
   "id": "318863fe-159b-45c1-8de5-59f68b8040a0",
   "metadata": {},
   "source": [
    "#   **\tPower: Returns first raised to power second"
   ]
  },
  {
   "cell_type": "code",
   "execution_count": 10,
   "id": "d8c2b871-2e5b-41eb-84e7-bc56fe63d680",
   "metadata": {},
   "outputs": [
    {
     "data": {
      "text/plain": [
       "16"
      ]
     },
     "execution_count": 10,
     "metadata": {},
     "output_type": "execute_result"
    }
   ],
   "source": [
    "4**2"
   ]
  },
  {
   "cell_type": "markdown",
   "id": "a6f32673-1020-4eed-b2ca-b90948c05fc1",
   "metadata": {},
   "source": [
    "# Q4. Create a list of length 10 of your choice containing multiple types of data. Using for loop print the element and its data type.\n"
   ]
  },
  {
   "cell_type": "code",
   "execution_count": 13,
   "id": "81d212d8-a8d6-4626-aff0-a22fdb9f15d6",
   "metadata": {},
   "outputs": [
    {
     "name": "stdout",
     "output_type": "stream",
     "text": [
      "1 <class 'list'>\n",
      "2 <class 'list'>\n",
      "3 <class 'list'>\n",
      "4 <class 'list'>\n",
      "5 <class 'list'>\n",
      "6 <class 'list'>\n",
      "hi <class 'list'>\n",
      "20.0 <class 'list'>\n",
      "(45+9j) <class 'list'>\n",
      "hello <class 'list'>\n"
     ]
    }
   ],
   "source": [
    "l=[1,2,3,4,5,6,'hi',20.0,45+9j,'hello']\n",
    "for i in l:\n",
    "    print(i,type(l))"
   ]
  },
  {
   "cell_type": "markdown",
   "id": "3163f826-ace5-4724-b307-d4e8b0df404c",
   "metadata": {},
   "source": [
    "# Q5. Using a while loop, verify if the number A is purely divisible by number B and if so then how many times it can be divisible.\n"
   ]
  },
  {
   "cell_type": "code",
   "execution_count": null,
   "id": "f36cbceb-65de-4a42-8c64-003a79521f6f",
   "metadata": {},
   "outputs": [],
   "source": [
    "n = 1\n",
    "m = 41\n",
    "\n",
    "div = [5,7]\n",
    "\n",
    "while(n<=m): \n",
    "    if n == 13:\n",
    "        n+=1\n",
    "    if n%div[0]==0 and n%div[1]==0:\n",
    "        print(n, 'the number is divisible for both 5 and 7')    \n",
    "    elif n%div[0]==0:\n",
    "        print(n, 'the number is divisible for 5')    \n",
    "    elif n%div[1]==0:\n",
    "        print(n, 'the number is divisible for 7')\n",
    "    else:\n",
    "        print(n, 'is divisible for neither 5 or 7')\n",
    "        n+=1"
   ]
  },
  {
   "cell_type": "raw",
   "id": "213fdbc8-c752-4bed-b8fe-138d510833b5",
   "metadata": {},
   "source": [
    "1 is divisible for neither 5 or 7\n",
    "2 is divisible for neither 5 or 7\n",
    "3 is divisible for neither 5 or 7\n",
    "4 is divisible for neither 5 or 7\n",
    "5 the number is divisible for 5\n",
    "6 is divisible for neither 5 or 7\n",
    "7 the number is divisible for 7\n",
    "8 is divisible for neither 5 or 7\n",
    "9 is divisible for neither 5 or 7\n",
    "10 the number is divisible for 5\n",
    "11 is divisible for neither 5 or 7\n",
    "12 is divisible for neither 5 or 7\n",
    "14 the number is divisible for 7\n",
    "15 the number is divisible for 5\n",
    "16 is divisible for neither 5 or 7\n",
    "17 is divisible for neither 5 or 7\n",
    "18 is divisible for neither 5 or 7\n",
    "19 is divisible for neither 5 or 7\n",
    "20 the number is divisible for 5\n",
    "21 the number is divisible for 7\n",
    "22 is divisible for neither 5 or 7\n",
    "23 is divisible for neither 5 or 7\n",
    "24 is divisible for neither 5 or 7\n",
    "25 the number is divisible for 5\n",
    "26 is divisible for neither 5 or 7\n",
    "27 is divisible for neither 5 or 7\n",
    "28 the number is divisible for 7\n",
    "29 is divisible for neither 5 or 7\n",
    "30 the number is divisible for 5\n",
    "31 is divisible for neither 5 or 7\n",
    "32 is divisible for neither 5 or 7\n",
    "33 is divisible for neither 5 or 7\n",
    "34 is divisible for neither 5 or 7\n",
    "35 the number is divisible for both 5 and 7\n",
    "36 is divisible for neither 5 or 7\n",
    "37 is divisible for neither 5 or 7\n",
    "38 is divisible for neither 5 or 7\n",
    "39 is divisible for neither 5 or 7\n",
    "40 the number is divisible for 5\n",
    "41 is divisible for neither 5 or 7"
   ]
  },
  {
   "cell_type": "markdown",
   "id": "ef3e3ef0-9b96-401e-9f48-c528db6c392c",
   "metadata": {},
   "source": [
    "# Q6. Create a list containing 25 int type data. Using for loop and if-else condition print if the element is divisible by 3 or not."
   ]
  },
  {
   "cell_type": "code",
   "execution_count": null,
   "id": "301d8575-5275-4cab-bf61-cb7edaa07a41",
   "metadata": {},
   "outputs": [],
   "source": [
    "lower = int(input(\"Enter lower range limit:\"))\n",
    "upper = int(input(\"Enter upper range limit:\"))\n",
    "for i in range(lower, upper+1):\n",
    "   if((i%3==0) & (i%5==0)):\n",
    "      print(i)"
   ]
  },
  {
   "cell_type": "raw",
   "id": "40ade5fd-355f-4c6b-a313-1994c1e8bfb8",
   "metadata": {},
   "source": [
    "Enter lower range limit: 0\n",
    "Enter upper range limit: 26\n",
    "0\n",
    "15"
   ]
  },
  {
   "cell_type": "markdown",
   "id": "3da82502-a776-4d52-8bd8-789259f81f93",
   "metadata": {},
   "source": [
    "# Q7. What do you understand about mutable and immutable data types? Give examples for both showing this property.\n"
   ]
  },
  {
   "cell_type": "code",
   "execution_count": null,
   "id": "2d082fc7-f964-47fb-921f-a4bfae2d7960",
   "metadata": {},
   "outputs": [],
   "source": [
    "In mutable datatypes the elements can be changed. an example of this is a list"
   ]
  },
  {
   "cell_type": "code",
   "execution_count": null,
   "id": "23b57ef6-e744-4297-8a47-c22ba9aa16bd",
   "metadata": {},
   "outputs": [],
   "source": [
    "l1=[1,2,3,4]"
   ]
  },
  {
   "cell_type": "raw",
   "id": "5eb66587-eb48-417a-aa71-5947b191d82e",
   "metadata": {},
   "source": [
    "[1, 2, 3, 4]"
   ]
  },
  {
   "cell_type": "code",
   "execution_count": null,
   "id": "2f4aa91e-8ce8-42c7-a04c-fdf85bde2e80",
   "metadata": {},
   "outputs": [],
   "source": [
    "l1[1]=5"
   ]
  },
  {
   "cell_type": "code",
   "execution_count": null,
   "id": "e093bab7-a226-46eb-b996-aaabb5012f81",
   "metadata": {},
   "outputs": [],
   "source": [
    "l1"
   ]
  },
  {
   "cell_type": "raw",
   "id": "feeb330d-83a9-4a41-8135-59630c38ad8e",
   "metadata": {},
   "source": [
    "[1, 5, 3, 4]"
   ]
  },
  {
   "cell_type": "code",
   "execution_count": null,
   "id": "fc32bdca-9685-4c78-8242-f979a732616e",
   "metadata": {},
   "outputs": [],
   "source": [
    "In immutable datatypes the elements can not be changed an example of this is a tuple"
   ]
  },
  {
   "cell_type": "code",
   "execution_count": null,
   "id": "0027580d-25da-4063-8ae6-097a13092610",
   "metadata": {},
   "outputs": [],
   "source": [
    "t=(1,3,5)"
   ]
  },
  {
   "cell_type": "code",
   "execution_count": null,
   "id": "f1654a36-2b39-4ef7-963c-cc4908733816",
   "metadata": {},
   "outputs": [],
   "source": [
    "t"
   ]
  },
  {
   "cell_type": "raw",
   "id": "82725b4b-19e4-4d26-8155-25401187986b",
   "metadata": {},
   "source": [
    "(1, 3, 5)"
   ]
  },
  {
   "cell_type": "code",
   "execution_count": null,
   "id": "fb200115-f339-4dea-8dcb-a0596c8c2073",
   "metadata": {},
   "outputs": [],
   "source": [
    "t[1]=4"
   ]
  },
  {
   "cell_type": "raw",
   "id": "0163dce2-cba5-4e71-82c5-71043acecd49",
   "metadata": {},
   "source": [
    "---------------------------------------------------------------------------\n",
    "TypeError                                 Traceback (most recent call last)\n",
    "Cell In[15], line 1\n",
    "----> 1 t[1]=4\n",
    "\n",
    "TypeError: 'tuple' object does not support item assignment"
   ]
  }
 ],
 "metadata": {
  "kernelspec": {
   "display_name": "Python 3 (ipykernel)",
   "language": "python",
   "name": "python3"
  },
  "language_info": {
   "codemirror_mode": {
    "name": "ipython",
    "version": 3
   },
   "file_extension": ".py",
   "mimetype": "text/x-python",
   "name": "python",
   "nbconvert_exporter": "python",
   "pygments_lexer": "ipython3",
   "version": "3.10.8"
  }
 },
 "nbformat": 4,
 "nbformat_minor": 5
}
