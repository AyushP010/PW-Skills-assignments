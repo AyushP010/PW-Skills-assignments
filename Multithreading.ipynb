{
  "nbformat": 4,
  "nbformat_minor": 0,
  "metadata": {
    "colab": {
      "provenance": [],
      "authorship_tag": "ABX9TyPLZRLBTf9ATXkeunbByJJF"
    },
    "kernelspec": {
      "name": "python3",
      "display_name": "Python 3"
    },
    "language_info": {
      "name": "python"
    }
  },
  "cells": [
    {
      "cell_type": "markdown",
      "source": [
        "Q1. What is multithreading in python? Why is it used? Name the module used to handle threads in python"
      ],
      "metadata": {
        "id": "BWSt4QRDsa6z"
      }
    },
    {
      "cell_type": "markdown",
      "source": [
        "Python multithreading enables efficient utilization of the resources as the threads share the data space and memory.\n",
        "\n",
        "Multithreading in Python allows the concurrent and parallel occurrence of various tasks. It causes a reduction in time consumption or response time, thereby increasing the performance.\n",
        "\n",
        "the module used to handle threads in Python is called threading\n",
        "\n",
        "Syntax:\n",
        "\n",
        "import threading"
      ],
      "metadata": {
        "id": "t5_LDm3Bu21f"
      }
    },
    {
      "cell_type": "markdown",
      "source": [
        "Q2. Why threading module used? Write the use of the following functions\n",
        "\n",
        " activeCount()\n",
        "\n",
        " currentThread()\n",
        "\n",
        " enumerate()"
      ],
      "metadata": {
        "id": "8f6Kk-2dvUU-"
      }
    },
    {
      "cell_type": "markdown",
      "source": [
        "Multithreading in Python allows the concurrent and parallel occurrence of various tasks. It causes a reduction in time consumption or response time, thereby increasing the performance.\n",
        "\n",
        "activeCount(): In Python, the method threading.active_co unt() from the threading module is used to count the currently active or running threads.\n",
        "\n",
        "currentThread():In Python, the method threading.active_co unt() from the threading module is used to check the current active thread.\n",
        "\n",
        "enumerate(): The enumerate () method adds a counter to an iterable and returns it in the form of an enumerating object.\n"
      ],
      "metadata": {
        "id": "QbDNYJMCxonQ"
      }
    },
    {
      "cell_type": "markdown",
      "source": [
        "Q3. Explain the following functions\n",
        "\n",
        "run()\n",
        "\n",
        "start()\n",
        "\n",
        "join()\n",
        "\n",
        "isAlive()"
      ],
      "metadata": {
        "id": "E2OXoAJR1bLp"
      }
    },
    {
      "cell_type": "markdown",
      "source": [
        "The .run() method executes any target function belonging to a given thread object that is now active. It normally executes in the background after the .start() method is invoked.\n",
        "\n",
        "The .start() method activates and prompts a thread object to be run.\n",
        "\n",
        "The .join() method delays a program’s flow of execution until the target thread has been completely read.\n",
        "\n",
        "The .is_alive() method returns True if the thread is still running and False, otherwise.\n",
        "\n"
      ],
      "metadata": {
        "id": "_UwmQF9vGgDf"
      }
    },
    {
      "cell_type": "markdown",
      "source": [
        "Q4. Write a python program to create two threads. Thread one must print the list of squares and thread two must print the list of cubes"
      ],
      "metadata": {
        "id": "VyrZHXWVN2X3"
      }
    },
    {
      "cell_type": "code",
      "source": [
        "import threading\n",
        "\n",
        "def printsquares():\n",
        "  for i in range(1,21):\n",
        "    print(f\"{i}^2 == {i**2}\")\n",
        "\n",
        "def printcubes():\n",
        "  for i in range(1,21):\n",
        "    print(f\"{i}^3 == {i**3}\")\n",
        "\n",
        "t1=threading.Thread(target=printsquares)\n",
        "\n",
        "t2=threading.Thread(target=printcubes)\n",
        "\n",
        "t1.start()\n",
        "\n",
        "t2.start()\n",
        "\n",
        "t1.join()\n",
        "\n",
        "t2.join()"
      ],
      "metadata": {
        "colab": {
          "base_uri": "https://localhost:8080/"
        },
        "id": "9IB_1TRINyeD",
        "outputId": "20bb66ca-965e-4610-ba63-7a2195f79c04"
      },
      "execution_count": 3,
      "outputs": [
        {
          "output_type": "stream",
          "name": "stdout",
          "text": [
            "1^2 == 1\n",
            "2^2 == 4\n",
            "3^2 == 9\n",
            "4^2 == 16\n",
            "5^2 == 25\n",
            "6^2 == 36\n",
            "7^2 == 49\n",
            "8^2 == 64\n",
            "9^2 == 81\n",
            "10^2 == 100\n",
            "11^2 == 121\n",
            "12^2 == 144\n",
            "13^2 == 169\n",
            "14^2 == 196\n",
            "15^2 == 225\n",
            "16^2 == 256\n",
            "17^2 == 289\n",
            "18^2 == 3241^3 == 1\n",
            "19^2 == 361\n",
            "20^2 == 400\n",
            "\n",
            "2^3 == 8\n",
            "3^3 == 27\n",
            "4^3 == 64\n",
            "5^3 == 125\n",
            "6^3 == 216\n",
            "7^3 == 343\n",
            "8^3 == 512\n",
            "9^3 == 729\n",
            "10^3 == 1000\n",
            "11^3 == 1331\n",
            "12^3 == 1728\n",
            "13^3 == 2197\n",
            "14^3 == 2744\n",
            "15^3 == 3375\n",
            "16^3 == 4096\n",
            "17^3 == 4913\n",
            "18^3 == 5832\n",
            "19^3 == 6859\n",
            "20^3 == 8000\n"
          ]
        }
      ]
    },
    {
      "cell_type": "markdown",
      "source": [
        "Q5.State advantages and disadvantages of multithreading\n",
        "\n"
      ],
      "metadata": {
        "id": "vZBY8WvePbtW"
      }
    },
    {
      "cell_type": "markdown",
      "source": [
        "Advantages:\n",
        "\n",
        "Improved performance: Multithreading can help increase the overall performance of an application, especially on systems with multiple processors or cores.\n",
        "\n",
        "Resource sharing: Threads share code, data, and files, leading to greater resource sharing. Context switching is very fast because of resource sharing\n",
        "\n",
        "Disadvantages:\n",
        "\n",
        "Complex debugging and testing processes: Debugging and testing multithreaded programs can be more complex than single-threaded programs\n",
        "\n",
        "Overhead switching of context: There is an overhead associated with switching between threads."
      ],
      "metadata": {
        "id": "Qup7nntYQ8X3"
      }
    },
    {
      "cell_type": "markdown",
      "source": [
        "Q6. Explain deadlocks and race conditions.\n",
        "\n"
      ],
      "metadata": {
        "id": "3IYMI1ciROZc"
      }
    },
    {
      "cell_type": "markdown",
      "source": [
        "A race condition is a situation where the behavior of a program depends on the relative timing of events, such as the order in which threads are scheduled to run\n",
        "\n",
        "A deadlock is a situation where two or more threads are blocked and unable to proceed because they are each waiting for the other to release a resource\n",
        "\n",
        "Both race conditions and deadlocks are common problems in multithreaded programming, and can be difficult to detect and fix."
      ],
      "metadata": {
        "id": "3b2uzXmdRQyb"
      }
    },
    {
      "cell_type": "code",
      "source": [],
      "metadata": {
        "id": "-uBYazFNRztf"
      },
      "execution_count": null,
      "outputs": []
    }
  ]
}